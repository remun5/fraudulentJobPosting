{
  "nbformat": 4,
  "nbformat_minor": 0,
  "metadata": {
    "colab": {
      "name": "JobPosting.ipynb",
      "provenance": [],
      "collapsed_sections": []
    },
    "kernelspec": {
      "name": "python3",
      "display_name": "Python 3"
    }
  },
  "cells": [
    {
      "cell_type": "markdown",
      "metadata": {
        "id": "uCAJxC-IqMmH",
        "colab_type": "text"
      },
      "source": [
        "# **[Real or Fake] Fake JobPosting Prediction**"
      ]
    },
    {
      "cell_type": "markdown",
      "metadata": {
        "id": "7OL6twQ-qdyq",
        "colab_type": "text"
      },
      "source": [
        "This dataset contains 18k job description entries out of which 800 are fake and rest are real. The description for each job contains both categorical and numerical values and based on this, the idea is to create a classifier to identify fraudulent job postings."
      ]
    },
    {
      "cell_type": "markdown",
      "metadata": {
        "id": "hs7GKgOO7240",
        "colab_type": "text"
      },
      "source": [
        "As this is a starting project, here I will first implement a simple logistic regression, then extend it to a multi layered deep learning architecture. The idea is to implement the neural network from scratch without implementing any of the pre-existing frameworks. "
      ]
    },
    {
      "cell_type": "code",
      "metadata": {
        "id": "YkHEWVmTaVC2",
        "colab_type": "code",
        "colab": {
          "base_uri": "https://localhost:8080/",
          "height": 71
        },
        "outputId": "729d37a9-6999-40cf-a5ee-da13250888e7"
      },
      "source": [
        "import numpy as np\n",
        "import matplotlib.pyplot as plt\n",
        "import pandas as pd\n",
        "import math\n",
        "import seaborn as sns"
      ],
      "execution_count": null,
      "outputs": [
        {
          "output_type": "stream",
          "text": [
            "/usr/local/lib/python3.6/dist-packages/statsmodels/tools/_testing.py:19: FutureWarning: pandas.util.testing is deprecated. Use the functions in the public API at pandas.testing instead.\n",
            "  import pandas.util.testing as tm\n"
          ],
          "name": "stderr"
        }
      ]
    },
    {
      "cell_type": "code",
      "metadata": {
        "id": "kCZgg9erIPyP",
        "colab_type": "code",
        "colab": {
          "resources": {
            "http://localhost:8080/nbextensions/google.colab/files.js": {
              "data": "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",
              "ok": true,
              "headers": [
                [
                  "content-type",
                  "application/javascript"
                ]
              ],
              "status": 200,
              "status_text": ""
            }
          },
          "base_uri": "https://localhost:8080/",
          "height": 72
        },
        "outputId": "b830aaa2-d41a-4105-ac8d-a5f7f825bc77"
      },
      "source": [
        "from google.colab import files\n",
        "uploaded = files.upload()"
      ],
      "execution_count": null,
      "outputs": [
        {
          "output_type": "display_data",
          "data": {
            "text/html": [
              "\n",
              "     <input type=\"file\" id=\"files-409d44c2-823d-4ce4-888a-1d8b0bd6ad66\" name=\"files[]\" multiple disabled\n",
              "        style=\"border:none\" />\n",
              "     <output id=\"result-409d44c2-823d-4ce4-888a-1d8b0bd6ad66\">\n",
              "      Upload widget is only available when the cell has been executed in the\n",
              "      current browser session. Please rerun this cell to enable.\n",
              "      </output>\n",
              "      <script src=\"/nbextensions/google.colab/files.js\"></script> "
            ],
            "text/plain": [
              "<IPython.core.display.HTML object>"
            ]
          },
          "metadata": {
            "tags": []
          }
        },
        {
          "output_type": "stream",
          "text": [
            "Saving fake_job_postings.csv to fake_job_postings.csv\n"
          ],
          "name": "stdout"
        }
      ]
    },
    {
      "cell_type": "code",
      "metadata": {
        "id": "PCWsK3b9aZmL",
        "colab_type": "code",
        "colab": {}
      },
      "source": [
        "df = pd.read_csv('fake_job_postings.csv')"
      ],
      "execution_count": null,
      "outputs": []
    },
    {
      "cell_type": "markdown",
      "metadata": {
        "id": "sGNxfwwO_nXN",
        "colab_type": "text"
      },
      "source": [
        "## **Data Understanding**"
      ]
    },
    {
      "cell_type": "markdown",
      "metadata": {
        "id": "TQFmOq6gAC03",
        "colab_type": "text"
      },
      "source": [
        "As stated earlier, there are around 18k data points, with 18 describing elements for each job."
      ]
    },
    {
      "cell_type": "code",
      "metadata": {
        "id": "t6GVpkA-__ih",
        "colab_type": "code",
        "colab": {
          "base_uri": "https://localhost:8080/",
          "height": 34
        },
        "outputId": "466dd276-6c17-4990-f44c-d27307752bdb"
      },
      "source": [
        "df.shape"
      ],
      "execution_count": null,
      "outputs": [
        {
          "output_type": "execute_result",
          "data": {
            "text/plain": [
              "(17880, 18)"
            ]
          },
          "metadata": {
            "tags": []
          },
          "execution_count": 5
        }
      ]
    },
    {
      "cell_type": "markdown",
      "metadata": {
        "id": "PLW6BOFuATEj",
        "colab_type": "text"
      },
      "source": [
        "The data is combination of both numerical and categorical features. The target is in the last column *'fraudulent'*."
      ]
    },
    {
      "cell_type": "code",
      "metadata": {
        "id": "xvLKrFQ4_rvr",
        "colab_type": "code",
        "colab": {
          "base_uri": "https://localhost:8080/",
          "height": 547
        },
        "outputId": "54a1b2c8-2f97-412b-d4b2-83b65b3e9e83"
      },
      "source": [
        "df.head()"
      ],
      "execution_count": null,
      "outputs": [
        {
          "output_type": "execute_result",
          "data": {
            "text/html": [
              "<div>\n",
              "<style scoped>\n",
              "    .dataframe tbody tr th:only-of-type {\n",
              "        vertical-align: middle;\n",
              "    }\n",
              "\n",
              "    .dataframe tbody tr th {\n",
              "        vertical-align: top;\n",
              "    }\n",
              "\n",
              "    .dataframe thead th {\n",
              "        text-align: right;\n",
              "    }\n",
              "</style>\n",
              "<table border=\"1\" class=\"dataframe\">\n",
              "  <thead>\n",
              "    <tr style=\"text-align: right;\">\n",
              "      <th></th>\n",
              "      <th>job_id</th>\n",
              "      <th>title</th>\n",
              "      <th>location</th>\n",
              "      <th>department</th>\n",
              "      <th>salary_range</th>\n",
              "      <th>company_profile</th>\n",
              "      <th>description</th>\n",
              "      <th>requirements</th>\n",
              "      <th>benefits</th>\n",
              "      <th>telecommuting</th>\n",
              "      <th>has_company_logo</th>\n",
              "      <th>has_questions</th>\n",
              "      <th>employment_type</th>\n",
              "      <th>required_experience</th>\n",
              "      <th>required_education</th>\n",
              "      <th>industry</th>\n",
              "      <th>function</th>\n",
              "      <th>fraudulent</th>\n",
              "    </tr>\n",
              "  </thead>\n",
              "  <tbody>\n",
              "    <tr>\n",
              "      <th>0</th>\n",
              "      <td>1</td>\n",
              "      <td>Marketing Intern</td>\n",
              "      <td>US, NY, New York</td>\n",
              "      <td>Marketing</td>\n",
              "      <td>NaN</td>\n",
              "      <td>We're Food52, and we've created a groundbreaki...</td>\n",
              "      <td>Food52, a fast-growing, James Beard Award-winn...</td>\n",
              "      <td>Experience with content management systems a m...</td>\n",
              "      <td>NaN</td>\n",
              "      <td>0</td>\n",
              "      <td>1</td>\n",
              "      <td>0</td>\n",
              "      <td>Other</td>\n",
              "      <td>Internship</td>\n",
              "      <td>NaN</td>\n",
              "      <td>NaN</td>\n",
              "      <td>Marketing</td>\n",
              "      <td>0</td>\n",
              "    </tr>\n",
              "    <tr>\n",
              "      <th>1</th>\n",
              "      <td>2</td>\n",
              "      <td>Customer Service - Cloud Video Production</td>\n",
              "      <td>NZ, , Auckland</td>\n",
              "      <td>Success</td>\n",
              "      <td>NaN</td>\n",
              "      <td>90 Seconds, the worlds Cloud Video Production ...</td>\n",
              "      <td>Organised - Focused - Vibrant - Awesome!Do you...</td>\n",
              "      <td>What we expect from you:Your key responsibilit...</td>\n",
              "      <td>What you will get from usThrough being part of...</td>\n",
              "      <td>0</td>\n",
              "      <td>1</td>\n",
              "      <td>0</td>\n",
              "      <td>Full-time</td>\n",
              "      <td>Not Applicable</td>\n",
              "      <td>NaN</td>\n",
              "      <td>Marketing and Advertising</td>\n",
              "      <td>Customer Service</td>\n",
              "      <td>0</td>\n",
              "    </tr>\n",
              "    <tr>\n",
              "      <th>2</th>\n",
              "      <td>3</td>\n",
              "      <td>Commissioning Machinery Assistant (CMA)</td>\n",
              "      <td>US, IA, Wever</td>\n",
              "      <td>NaN</td>\n",
              "      <td>NaN</td>\n",
              "      <td>Valor Services provides Workforce Solutions th...</td>\n",
              "      <td>Our client, located in Houston, is actively se...</td>\n",
              "      <td>Implement pre-commissioning and commissioning ...</td>\n",
              "      <td>NaN</td>\n",
              "      <td>0</td>\n",
              "      <td>1</td>\n",
              "      <td>0</td>\n",
              "      <td>NaN</td>\n",
              "      <td>NaN</td>\n",
              "      <td>NaN</td>\n",
              "      <td>NaN</td>\n",
              "      <td>NaN</td>\n",
              "      <td>0</td>\n",
              "    </tr>\n",
              "    <tr>\n",
              "      <th>3</th>\n",
              "      <td>4</td>\n",
              "      <td>Account Executive - Washington DC</td>\n",
              "      <td>US, DC, Washington</td>\n",
              "      <td>Sales</td>\n",
              "      <td>NaN</td>\n",
              "      <td>Our passion for improving quality of life thro...</td>\n",
              "      <td>THE COMPANY: ESRI – Environmental Systems Rese...</td>\n",
              "      <td>EDUCATION: Bachelor’s or Master’s in GIS, busi...</td>\n",
              "      <td>Our culture is anything but corporate—we have ...</td>\n",
              "      <td>0</td>\n",
              "      <td>1</td>\n",
              "      <td>0</td>\n",
              "      <td>Full-time</td>\n",
              "      <td>Mid-Senior level</td>\n",
              "      <td>Bachelor's Degree</td>\n",
              "      <td>Computer Software</td>\n",
              "      <td>Sales</td>\n",
              "      <td>0</td>\n",
              "    </tr>\n",
              "    <tr>\n",
              "      <th>4</th>\n",
              "      <td>5</td>\n",
              "      <td>Bill Review Manager</td>\n",
              "      <td>US, FL, Fort Worth</td>\n",
              "      <td>NaN</td>\n",
              "      <td>NaN</td>\n",
              "      <td>SpotSource Solutions LLC is a Global Human Cap...</td>\n",
              "      <td>JOB TITLE: Itemization Review ManagerLOCATION:...</td>\n",
              "      <td>QUALIFICATIONS:RN license in the State of Texa...</td>\n",
              "      <td>Full Benefits Offered</td>\n",
              "      <td>0</td>\n",
              "      <td>1</td>\n",
              "      <td>1</td>\n",
              "      <td>Full-time</td>\n",
              "      <td>Mid-Senior level</td>\n",
              "      <td>Bachelor's Degree</td>\n",
              "      <td>Hospital &amp; Health Care</td>\n",
              "      <td>Health Care Provider</td>\n",
              "      <td>0</td>\n",
              "    </tr>\n",
              "  </tbody>\n",
              "</table>\n",
              "</div>"
            ],
            "text/plain": [
              "   job_id  ... fraudulent\n",
              "0       1  ...          0\n",
              "1       2  ...          0\n",
              "2       3  ...          0\n",
              "3       4  ...          0\n",
              "4       5  ...          0\n",
              "\n",
              "[5 rows x 18 columns]"
            ]
          },
          "metadata": {
            "tags": []
          },
          "execution_count": 6
        }
      ]
    },
    {
      "cell_type": "markdown",
      "metadata": {
        "id": "GZg5rv_PAkMR",
        "colab_type": "text"
      },
      "source": [
        "The numerical values in the dataset are all binary."
      ]
    },
    {
      "cell_type": "code",
      "metadata": {
        "id": "Y50gSoopIFGa",
        "colab_type": "code",
        "colab": {
          "base_uri": "https://localhost:8080/",
          "height": 297
        },
        "outputId": "525de19a-ac78-4bc8-f406-3733e1aa5135"
      },
      "source": [
        "df.describe()"
      ],
      "execution_count": null,
      "outputs": [
        {
          "output_type": "execute_result",
          "data": {
            "text/html": [
              "<div>\n",
              "<style scoped>\n",
              "    .dataframe tbody tr th:only-of-type {\n",
              "        vertical-align: middle;\n",
              "    }\n",
              "\n",
              "    .dataframe tbody tr th {\n",
              "        vertical-align: top;\n",
              "    }\n",
              "\n",
              "    .dataframe thead th {\n",
              "        text-align: right;\n",
              "    }\n",
              "</style>\n",
              "<table border=\"1\" class=\"dataframe\">\n",
              "  <thead>\n",
              "    <tr style=\"text-align: right;\">\n",
              "      <th></th>\n",
              "      <th>job_id</th>\n",
              "      <th>telecommuting</th>\n",
              "      <th>has_company_logo</th>\n",
              "      <th>has_questions</th>\n",
              "      <th>fraudulent</th>\n",
              "    </tr>\n",
              "  </thead>\n",
              "  <tbody>\n",
              "    <tr>\n",
              "      <th>count</th>\n",
              "      <td>17880.000000</td>\n",
              "      <td>17880.000000</td>\n",
              "      <td>17880.000000</td>\n",
              "      <td>17880.000000</td>\n",
              "      <td>17880.000000</td>\n",
              "    </tr>\n",
              "    <tr>\n",
              "      <th>mean</th>\n",
              "      <td>8940.500000</td>\n",
              "      <td>0.042897</td>\n",
              "      <td>0.795302</td>\n",
              "      <td>0.491723</td>\n",
              "      <td>0.048434</td>\n",
              "    </tr>\n",
              "    <tr>\n",
              "      <th>std</th>\n",
              "      <td>5161.655742</td>\n",
              "      <td>0.202631</td>\n",
              "      <td>0.403492</td>\n",
              "      <td>0.499945</td>\n",
              "      <td>0.214688</td>\n",
              "    </tr>\n",
              "    <tr>\n",
              "      <th>min</th>\n",
              "      <td>1.000000</td>\n",
              "      <td>0.000000</td>\n",
              "      <td>0.000000</td>\n",
              "      <td>0.000000</td>\n",
              "      <td>0.000000</td>\n",
              "    </tr>\n",
              "    <tr>\n",
              "      <th>25%</th>\n",
              "      <td>4470.750000</td>\n",
              "      <td>0.000000</td>\n",
              "      <td>1.000000</td>\n",
              "      <td>0.000000</td>\n",
              "      <td>0.000000</td>\n",
              "    </tr>\n",
              "    <tr>\n",
              "      <th>50%</th>\n",
              "      <td>8940.500000</td>\n",
              "      <td>0.000000</td>\n",
              "      <td>1.000000</td>\n",
              "      <td>0.000000</td>\n",
              "      <td>0.000000</td>\n",
              "    </tr>\n",
              "    <tr>\n",
              "      <th>75%</th>\n",
              "      <td>13410.250000</td>\n",
              "      <td>0.000000</td>\n",
              "      <td>1.000000</td>\n",
              "      <td>1.000000</td>\n",
              "      <td>0.000000</td>\n",
              "    </tr>\n",
              "    <tr>\n",
              "      <th>max</th>\n",
              "      <td>17880.000000</td>\n",
              "      <td>1.000000</td>\n",
              "      <td>1.000000</td>\n",
              "      <td>1.000000</td>\n",
              "      <td>1.000000</td>\n",
              "    </tr>\n",
              "  </tbody>\n",
              "</table>\n",
              "</div>"
            ],
            "text/plain": [
              "             job_id  telecommuting  ...  has_questions    fraudulent\n",
              "count  17880.000000   17880.000000  ...   17880.000000  17880.000000\n",
              "mean    8940.500000       0.042897  ...       0.491723      0.048434\n",
              "std     5161.655742       0.202631  ...       0.499945      0.214688\n",
              "min        1.000000       0.000000  ...       0.000000      0.000000\n",
              "25%     4470.750000       0.000000  ...       0.000000      0.000000\n",
              "50%     8940.500000       0.000000  ...       0.000000      0.000000\n",
              "75%    13410.250000       0.000000  ...       1.000000      0.000000\n",
              "max    17880.000000       1.000000  ...       1.000000      1.000000\n",
              "\n",
              "[8 rows x 5 columns]"
            ]
          },
          "metadata": {
            "tags": []
          },
          "execution_count": 7
        }
      ]
    },
    {
      "cell_type": "markdown",
      "metadata": {
        "id": "kCwcq_7nD_6I",
        "colab_type": "text"
      },
      "source": [
        "We can see below that the dataset contains a lot of null values, but exclusively in the categorical part."
      ]
    },
    {
      "cell_type": "code",
      "metadata": {
        "id": "HEIsiF7PDct_",
        "colab_type": "code",
        "colab": {
          "base_uri": "https://localhost:8080/",
          "height": 340
        },
        "outputId": "6bdf289c-9afb-4677-be7a-24fff42bbb71"
      },
      "source": [
        "df.isnull().sum()"
      ],
      "execution_count": null,
      "outputs": [
        {
          "output_type": "execute_result",
          "data": {
            "text/plain": [
              "job_id                     0\n",
              "title                      0\n",
              "location                 346\n",
              "department             11547\n",
              "salary_range           15012\n",
              "company_profile         3308\n",
              "description                1\n",
              "requirements            2695\n",
              "benefits                7210\n",
              "telecommuting              0\n",
              "has_company_logo           0\n",
              "has_questions              0\n",
              "employment_type         3471\n",
              "required_experience     7050\n",
              "required_education      8105\n",
              "industry                4903\n",
              "function                6455\n",
              "fraudulent                 0\n",
              "dtype: int64"
            ]
          },
          "metadata": {
            "tags": []
          },
          "execution_count": 8
        }
      ]
    },
    {
      "cell_type": "markdown",
      "metadata": {
        "id": "Qw91N8rCmcOP",
        "colab_type": "text"
      },
      "source": [
        "Likewise, as we can see that approximately 95% of the data is false. This is a imbalanced dataset. So solve this problem we can resample. There are two methods: oversampling the minority class or undersampling the majority class. To oversample, we need to generate synthetic data, which might then complicate the problem due to the problem of overfitting towards certain generated tendencies. Here, we just undersample to match the number of classes in the training set.\n"
      ]
    },
    {
      "cell_type": "code",
      "metadata": {
        "id": "kHWkGvaHEHs9",
        "colab_type": "code",
        "colab": {
          "base_uri": "https://localhost:8080/",
          "height": 68
        },
        "outputId": "109f6adb-ad78-4c9e-a474-96709a184585"
      },
      "source": [
        "df['fraudulent'].value_counts()"
      ],
      "execution_count": null,
      "outputs": [
        {
          "output_type": "execute_result",
          "data": {
            "text/plain": [
              "0    17014\n",
              "1      866\n",
              "Name: fraudulent, dtype: int64"
            ]
          },
          "metadata": {
            "tags": []
          },
          "execution_count": 9
        }
      ]
    },
    {
      "cell_type": "markdown",
      "metadata": {
        "id": "2DJZdA8DnYn3",
        "colab_type": "text"
      },
      "source": [
        "The way the description is written is can be an important factor for fraud detection. However, we need language processing in order to achieve that. In our case we do not consider this problem, and just take into consideration other factors."
      ]
    },
    {
      "cell_type": "markdown",
      "metadata": {
        "id": "xzIB_3Tlb36V",
        "colab_type": "text"
      },
      "source": [
        "## **Data Analysis:**"
      ]
    },
    {
      "cell_type": "markdown",
      "metadata": {
        "id": "_vWeC71-cNzN",
        "colab_type": "text"
      },
      "source": [
        "Rather than going into the advertisement text analysis (which is planned using RNN in the later project), here we will mostly look into other extrapolative features resulting from the description."
      ]
    },
    {
      "cell_type": "markdown",
      "metadata": {
        "id": "6_VbW-nOc0zK",
        "colab_type": "text"
      },
      "source": [
        "For location, we can see that there the data is filled in with the format \"country, state, city\". So we can split the column into three separate entities."
      ]
    },
    {
      "cell_type": "code",
      "metadata": {
        "id": "x4IY0ABDdMOR",
        "colab_type": "code",
        "colab": {}
      },
      "source": [
        "df['country'] = df['location'].str.split(',', expand=True)[0]\n",
        "df['state'] = df['location'].str.split(',', expand=True)[2]\n",
        "df['city'] = df['location'].str.split(',', expand=True)[1]"
      ],
      "execution_count": null,
      "outputs": []
    },
    {
      "cell_type": "markdown",
      "metadata": {
        "id": "obbapfYudR6X",
        "colab_type": "text"
      },
      "source": [
        "For the features \"company_profile, salary_range, required_experience and required_education\", we will consider whether the fields are present of not as we do not want to go into NLP for this task."
      ]
    },
    {
      "cell_type": "code",
      "metadata": {
        "id": "rNzJXtCgdpUA",
        "colab_type": "code",
        "colab": {}
      },
      "source": [
        "df['has_company_profile'] = df['company_profile'].isnull().astype(int)\n",
        "df['has_salary_range'] = df['salary_range'].isnull().astype(int)\n",
        "df['has_required_experience'] = df['required_experience'].isnull().astype(int)\n",
        "df['has_required_education'] = df['required_education'].isnull().astype(int)"
      ],
      "execution_count": null,
      "outputs": []
    },
    {
      "cell_type": "markdown",
      "metadata": {
        "id": "e1OdIIpZdttp",
        "colab_type": "text"
      },
      "source": [
        "As you can see below, the presence of the field does indicate real or fraudulent job posting to some extent."
      ]
    },
    {
      "cell_type": "code",
      "metadata": {
        "id": "AEUw4pg4d7pm",
        "colab_type": "code",
        "colab": {
          "base_uri": "https://localhost:8080/",
          "height": 297
        },
        "outputId": "7ea182e5-34fb-429e-a117-dde8576187e7"
      },
      "source": [
        "sns.countplot(x=df['has_company_profile'], data=df, hue='fraudulent', palette='Set2') "
      ],
      "execution_count": null,
      "outputs": [
        {
          "output_type": "execute_result",
          "data": {
            "text/plain": [
              "<matplotlib.axes._subplots.AxesSubplot at 0x7f7b191f3dd8>"
            ]
          },
          "metadata": {
            "tags": []
          },
          "execution_count": 12
        },
        {
          "output_type": "display_data",
          "data": {
            "image/png": "[encoded data removed]",
            "text/plain": [
              "<Figure size 432x288 with 1 Axes>"
            ]
          },
          "metadata": {
            "tags": [],
            "needs_background": "light"
          }
        }
      ]
    },
    {
      "cell_type": "code",
      "metadata": {
        "id": "NhJawB1he4Je",
        "colab_type": "code",
        "colab": {
          "base_uri": "https://localhost:8080/",
          "height": 297
        },
        "outputId": "90b5276f-cce3-4f19-b97b-bfa1dca5b57e"
      },
      "source": [
        "sns.countplot(x=df['has_salary_range'], data=df, hue='fraudulent', palette='Set2') "
      ],
      "execution_count": null,
      "outputs": [
        {
          "output_type": "execute_result",
          "data": {
            "text/plain": [
              "<matplotlib.axes._subplots.AxesSubplot at 0x7f7b191b9828>"
            ]
          },
          "metadata": {
            "tags": []
          },
          "execution_count": 13
        },
        {
          "output_type": "display_data",
          "data": {
            "image/png": "[encoded data removed]",
            "text/plain": [
              "<Figure size 432x288 with 1 Axes>"
            ]
          },
          "metadata": {
            "tags": [],
            "needs_background": "light"
          }
        }
      ]
    },
    {
      "cell_type": "code",
      "metadata": {
        "id": "JYPsaN7cfS6x",
        "colab_type": "code",
        "colab": {
          "base_uri": "https://localhost:8080/",
          "height": 297
        },
        "outputId": "db085fa5-97a9-40fa-f44e-27416bd40256"
      },
      "source": [
        "sns.countplot(x=df['has_required_experience'], data=df, hue='fraudulent', palette='Set2') "
      ],
      "execution_count": null,
      "outputs": [
        {
          "output_type": "execute_result",
          "data": {
            "text/plain": [
              "<matplotlib.axes._subplots.AxesSubplot at 0x7f7b191f5e10>"
            ]
          },
          "metadata": {
            "tags": []
          },
          "execution_count": 14
        },
        {
          "output_type": "display_data",
          "data": {
            "image/png": "[encoded data removed]",
            "text/plain": [
              "<Figure size 432x288 with 1 Axes>"
            ]
          },
          "metadata": {
            "tags": [],
            "needs_background": "light"
          }
        }
      ]
    },
    {
      "cell_type": "code",
      "metadata": {
        "id": "tK04_GXRfZZ7",
        "colab_type": "code",
        "colab": {
          "base_uri": "https://localhost:8080/",
          "height": 297
        },
        "outputId": "9c7dbb4d-c907-4961-d975-9e5e16d1ac7e"
      },
      "source": [
        "sns.countplot(x=df['has_required_education'], data=df, hue='fraudulent', palette='Set2') "
      ],
      "execution_count": null,
      "outputs": [
        {
          "output_type": "execute_result",
          "data": {
            "text/plain": [
              "<matplotlib.axes._subplots.AxesSubplot at 0x7f7b192765c0>"
            ]
          },
          "metadata": {
            "tags": []
          },
          "execution_count": 15
        },
        {
          "output_type": "display_data",
          "data": {
            "image/png": "[encoded data removed]",
            "text/plain": [
              "<Figure size 432x288 with 1 Axes>"
            ]
          },
          "metadata": {
            "tags": [],
            "needs_background": "light"
          }
        }
      ]
    },
    {
      "cell_type": "markdown",
      "metadata": {
        "id": "zSzfvl8dLuf9",
        "colab_type": "text"
      },
      "source": [
        "### **Data Preprocessing:**"
      ]
    },
    {
      "cell_type": "markdown",
      "metadata": {
        "id": "RWagwAqcXEpI",
        "colab_type": "text"
      },
      "source": [
        "### **Balance the data:**"
      ]
    },
    {
      "cell_type": "markdown",
      "metadata": {
        "id": "U7w9YGA3zKm1",
        "colab_type": "text"
      },
      "source": [
        "As stated earlier, since the data is imbalanced, we undersample so that we pick the data for non fraudulent advertisements to be equal to the fraudulent ones."
      ]
    },
    {
      "cell_type": "code",
      "metadata": {
        "id": "qeOjD-6MXiph",
        "colab_type": "code",
        "colab": {}
      },
      "source": [
        "df_sampled_0 = df[df['fraudulent']==0].sample(n = 866)"
      ],
      "execution_count": null,
      "outputs": []
    },
    {
      "cell_type": "code",
      "metadata": {
        "id": "sz4-o19Lmj9a",
        "colab_type": "code",
        "colab": {}
      },
      "source": [
        "df_sampled = pd.concat([df_sampled_0, df[df['fraudulent']==1]]).sample(frac=1).reset_index(drop=True)"
      ],
      "execution_count": null,
      "outputs": []
    },
    {
      "cell_type": "code",
      "metadata": {
        "id": "p0-HGBVLnAFN",
        "colab_type": "code",
        "colab": {
          "base_uri": "https://localhost:8080/",
          "height": 68
        },
        "outputId": "e5289f3d-f128-40f9-b57e-e3075b7e9d38"
      },
      "source": [
        "df_sampled['fraudulent'].value_counts()"
      ],
      "execution_count": null,
      "outputs": [
        {
          "output_type": "execute_result",
          "data": {
            "text/plain": [
              "1    866\n",
              "0    866\n",
              "Name: fraudulent, dtype: int64"
            ]
          },
          "metadata": {
            "tags": []
          },
          "execution_count": 18
        }
      ]
    },
    {
      "cell_type": "markdown",
      "metadata": {
        "id": "vCVo4hwX0Lh0",
        "colab_type": "text"
      },
      "source": [
        "The balanced data gives a better intuitive insight into the four additional fields we created in the data analysis section."
      ]
    },
    {
      "cell_type": "code",
      "metadata": {
        "id": "wfs3Schmzrp4",
        "colab_type": "code",
        "colab": {
          "base_uri": "https://localhost:8080/",
          "height": 297
        },
        "outputId": "7e34b620-5dbb-47e8-e2dd-3706d2055b7b"
      },
      "source": [
        "sns.countplot(x=df_sampled['has_company_profile'], data=df_sampled, hue='fraudulent', palette='Set2') "
      ],
      "execution_count": null,
      "outputs": [
        {
          "output_type": "execute_result",
          "data": {
            "text/plain": [
              "<matplotlib.axes._subplots.AxesSubplot at 0x7f7b1946d898>"
            ]
          },
          "metadata": {
            "tags": []
          },
          "execution_count": 19
        },
        {
          "output_type": "display_data",
          "data": {
            "image/png": "[encoded data removed]",
            "text/plain": [
              "<Figure size 432x288 with 1 Axes>"
            ]
          },
          "metadata": {
            "tags": [],
            "needs_background": "light"
          }
        }
      ]
    },
    {
      "cell_type": "code",
      "metadata": {
        "id": "6JzvGRHfz6bo",
        "colab_type": "code",
        "colab": {
          "base_uri": "https://localhost:8080/",
          "height": 297
        },
        "outputId": "47156ac1-11ed-429c-e8f1-872bdfe606e3"
      },
      "source": [
        "sns.countplot(x=df_sampled['has_salary_range'], data=df_sampled, hue='fraudulent', palette='Set2') "
      ],
      "execution_count": null,
      "outputs": [
        {
          "output_type": "execute_result",
          "data": {
            "text/plain": [
              "<matplotlib.axes._subplots.AxesSubplot at 0x7f7b1945ec18>"
            ]
          },
          "metadata": {
            "tags": []
          },
          "execution_count": 20
        },
        {
          "output_type": "display_data",
          "data": {
            "image/png": "[encoded data removed]",
            "text/plain": [
              "<Figure size 432x288 with 1 Axes>"
            ]
          },
          "metadata": {
            "tags": [],
            "needs_background": "light"
          }
        }
      ]
    },
    {
      "cell_type": "code",
      "metadata": {
        "id": "43UDaInkz--9",
        "colab_type": "code",
        "colab": {
          "base_uri": "https://localhost:8080/",
          "height": 297
        },
        "outputId": "be1796be-ec77-457d-ce9f-65b8cae981f0"
      },
      "source": [
        "sns.countplot(x=df_sampled['has_required_experience'], data=df_sampled, hue='fraudulent', palette='Set2') "
      ],
      "execution_count": null,
      "outputs": [
        {
          "output_type": "execute_result",
          "data": {
            "text/plain": [
              "<matplotlib.axes._subplots.AxesSubplot at 0x7f7b194ea7f0>"
            ]
          },
          "metadata": {
            "tags": []
          },
          "execution_count": 21
        },
        {
          "output_type": "display_data",
          "data": {
            "image/png": "[encoded data removed]",
            "text/plain": [
              "<Figure size 432x288 with 1 Axes>"
            ]
          },
          "metadata": {
            "tags": [],
            "needs_background": "light"
          }
        }
      ]
    },
    {
      "cell_type": "code",
      "metadata": {
        "id": "bYjTsoXj0Awp",
        "colab_type": "code",
        "colab": {
          "base_uri": "https://localhost:8080/",
          "height": 297
        },
        "outputId": "aa172c86-1baa-4d7b-e142-f6822559bd82"
      },
      "source": [
        "sns.countplot(x=df_sampled['has_required_education'], data=df_sampled, hue='fraudulent', palette='Set2') "
      ],
      "execution_count": null,
      "outputs": [
        {
          "output_type": "execute_result",
          "data": {
            "text/plain": [
              "<matplotlib.axes._subplots.AxesSubplot at 0x7f7b19530160>"
            ]
          },
          "metadata": {
            "tags": []
          },
          "execution_count": 22
        },
        {
          "output_type": "display_data",
          "data": {
            "image/png": "[encoded data removed]",
            "text/plain": [
              "<Figure size 432x288 with 1 Axes>"
            ]
          },
          "metadata": {
            "tags": [],
            "needs_background": "light"
          }
        }
      ]
    },
    {
      "cell_type": "markdown",
      "metadata": {
        "id": "VkNzsmI7Xlzp",
        "colab_type": "text"
      },
      "source": [
        "### **Drop unnecessary labels:**"
      ]
    },
    {
      "cell_type": "code",
      "metadata": {
        "id": "gVymJ3dlW17G",
        "colab_type": "code",
        "colab": {}
      },
      "source": [
        "df_sampled.drop(['job_id', 'location', 'salary_range', 'company_profile', 'description', 'requirements', 'benefits'], axis=1, inplace=True)"
      ],
      "execution_count": null,
      "outputs": []
    },
    {
      "cell_type": "markdown",
      "metadata": {
        "id": "qeM9MGJj0nby",
        "colab_type": "text"
      },
      "source": [
        "Since a lot of fields in the categorical columns are null, we replace all of them by a token and use the absence of information as another feature. "
      ]
    },
    {
      "cell_type": "code",
      "metadata": {
        "id": "OgqnK1qKYTxx",
        "colab_type": "code",
        "colab": {}
      },
      "source": [
        "df_sampled.fillna('<UNK>', inplace=True)"
      ],
      "execution_count": null,
      "outputs": []
    },
    {
      "cell_type": "code",
      "metadata": {
        "id": "Br0VefTCamJq",
        "colab_type": "code",
        "colab": {
          "base_uri": "https://localhost:8080/",
          "height": 762
        },
        "outputId": "632cc2d4-4631-4462-eff1-81b3d677428f"
      },
      "source": [
        "df_sampled"
      ],
      "execution_count": null,
      "outputs": [
        {
          "output_type": "execute_result",
          "data": {
            "text/html": [
              "<div>\n",
              "<style scoped>\n",
              "    .dataframe tbody tr th:only-of-type {\n",
              "        vertical-align: middle;\n",
              "    }\n",
              "\n",
              "    .dataframe tbody tr th {\n",
              "        vertical-align: top;\n",
              "    }\n",
              "\n",
              "    .dataframe thead th {\n",
              "        text-align: right;\n",
              "    }\n",
              "</style>\n",
              "<table border=\"1\" class=\"dataframe\">\n",
              "  <thead>\n",
              "    <tr style=\"text-align: right;\">\n",
              "      <th></th>\n",
              "      <th>title</th>\n",
              "      <th>department</th>\n",
              "      <th>telecommuting</th>\n",
              "      <th>has_company_logo</th>\n",
              "      <th>has_questions</th>\n",
              "      <th>employment_type</th>\n",
              "      <th>required_experience</th>\n",
              "      <th>required_education</th>\n",
              "      <th>industry</th>\n",
              "      <th>function</th>\n",
              "      <th>fraudulent</th>\n",
              "      <th>country</th>\n",
              "      <th>state</th>\n",
              "      <th>city</th>\n",
              "      <th>has_company_profile</th>\n",
              "      <th>has_salary_range</th>\n",
              "      <th>has_required_experience</th>\n",
              "      <th>has_required_education</th>\n",
              "    </tr>\n",
              "  </thead>\n",
              "  <tbody>\n",
              "    <tr>\n",
              "      <th>0</th>\n",
              "      <td>Data Entry Clerk / Administrative Assistant</td>\n",
              "      <td>Administrative</td>\n",
              "      <td>0</td>\n",
              "      <td>0</td>\n",
              "      <td>0</td>\n",
              "      <td>Full-time</td>\n",
              "      <td>Entry level</td>\n",
              "      <td>Bachelor's Degree</td>\n",
              "      <td>Telecommunications</td>\n",
              "      <td>Administrative</td>\n",
              "      <td>1</td>\n",
              "      <td>US</td>\n",
              "      <td>Washington</td>\n",
              "      <td>DC</td>\n",
              "      <td>1</td>\n",
              "      <td>0</td>\n",
              "      <td>0</td>\n",
              "      <td>0</td>\n",
              "    </tr>\n",
              "    <tr>\n",
              "      <th>1</th>\n",
              "      <td>Data and Marketing Analyst</td>\n",
              "      <td>&lt;UNK&gt;</td>\n",
              "      <td>0</td>\n",
              "      <td>1</td>\n",
              "      <td>1</td>\n",
              "      <td>Full-time</td>\n",
              "      <td>Entry level</td>\n",
              "      <td>Master's Degree</td>\n",
              "      <td>Information Technology and Services</td>\n",
              "      <td>Data Analyst</td>\n",
              "      <td>0</td>\n",
              "      <td>NO</td>\n",
              "      <td></td>\n",
              "      <td>03</td>\n",
              "      <td>0</td>\n",
              "      <td>1</td>\n",
              "      <td>0</td>\n",
              "      <td>0</td>\n",
              "    </tr>\n",
              "    <tr>\n",
              "      <th>2</th>\n",
              "      <td>Marketing Manager</td>\n",
              "      <td>&lt;UNK&gt;</td>\n",
              "      <td>0</td>\n",
              "      <td>1</td>\n",
              "      <td>0</td>\n",
              "      <td>Full-time</td>\n",
              "      <td>Mid-Senior level</td>\n",
              "      <td>&lt;UNK&gt;</td>\n",
              "      <td>Information Technology and Services</td>\n",
              "      <td>&lt;UNK&gt;</td>\n",
              "      <td>0</td>\n",
              "      <td>PL</td>\n",
              "      <td>Warszawa</td>\n",
              "      <td>MZ</td>\n",
              "      <td>0</td>\n",
              "      <td>1</td>\n",
              "      <td>0</td>\n",
              "      <td>1</td>\n",
              "    </tr>\n",
              "    <tr>\n",
              "      <th>3</th>\n",
              "      <td>Restaurant Manager - Le Meridien KL</td>\n",
              "      <td>&lt;UNK&gt;</td>\n",
              "      <td>0</td>\n",
              "      <td>1</td>\n",
              "      <td>0</td>\n",
              "      <td>&lt;UNK&gt;</td>\n",
              "      <td>&lt;UNK&gt;</td>\n",
              "      <td>&lt;UNK&gt;</td>\n",
              "      <td>&lt;UNK&gt;</td>\n",
              "      <td>&lt;UNK&gt;</td>\n",
              "      <td>1</td>\n",
              "      <td>MY</td>\n",
              "      <td></td>\n",
              "      <td></td>\n",
              "      <td>0</td>\n",
              "      <td>1</td>\n",
              "      <td>1</td>\n",
              "      <td>1</td>\n",
              "    </tr>\n",
              "    <tr>\n",
              "      <th>4</th>\n",
              "      <td>English Teacher Abroad</td>\n",
              "      <td>&lt;UNK&gt;</td>\n",
              "      <td>0</td>\n",
              "      <td>1</td>\n",
              "      <td>1</td>\n",
              "      <td>Contract</td>\n",
              "      <td>&lt;UNK&gt;</td>\n",
              "      <td>Bachelor's Degree</td>\n",
              "      <td>Education Management</td>\n",
              "      <td>&lt;UNK&gt;</td>\n",
              "      <td>0</td>\n",
              "      <td>US</td>\n",
              "      <td>Saratoga Springs</td>\n",
              "      <td>NY</td>\n",
              "      <td>0</td>\n",
              "      <td>1</td>\n",
              "      <td>1</td>\n",
              "      <td>0</td>\n",
              "    </tr>\n",
              "    <tr>\n",
              "      <th>...</th>\n",
              "      <td>...</td>\n",
              "      <td>...</td>\n",
              "      <td>...</td>\n",
              "      <td>...</td>\n",
              "      <td>...</td>\n",
              "      <td>...</td>\n",
              "      <td>...</td>\n",
              "      <td>...</td>\n",
              "      <td>...</td>\n",
              "      <td>...</td>\n",
              "      <td>...</td>\n",
              "      <td>...</td>\n",
              "      <td>...</td>\n",
              "      <td>...</td>\n",
              "      <td>...</td>\n",
              "      <td>...</td>\n",
              "      <td>...</td>\n",
              "      <td>...</td>\n",
              "    </tr>\n",
              "    <tr>\n",
              "      <th>1727</th>\n",
              "      <td>Account Sales Managers $80-$130,000/yr</td>\n",
              "      <td>&lt;UNK&gt;</td>\n",
              "      <td>0</td>\n",
              "      <td>1</td>\n",
              "      <td>0</td>\n",
              "      <td>Full-time</td>\n",
              "      <td>Associate</td>\n",
              "      <td>High School or equivalent</td>\n",
              "      <td>Financial Services</td>\n",
              "      <td>Business Development</td>\n",
              "      <td>1</td>\n",
              "      <td>US</td>\n",
              "      <td>Long Island</td>\n",
              "      <td>NY</td>\n",
              "      <td>0</td>\n",
              "      <td>1</td>\n",
              "      <td>0</td>\n",
              "      <td>0</td>\n",
              "    </tr>\n",
              "    <tr>\n",
              "      <th>1728</th>\n",
              "      <td>KMC</td>\n",
              "      <td>&lt;UNK&gt;</td>\n",
              "      <td>0</td>\n",
              "      <td>0</td>\n",
              "      <td>0</td>\n",
              "      <td>&lt;UNK&gt;</td>\n",
              "      <td>&lt;UNK&gt;</td>\n",
              "      <td>&lt;UNK&gt;</td>\n",
              "      <td>&lt;UNK&gt;</td>\n",
              "      <td>&lt;UNK&gt;</td>\n",
              "      <td>1</td>\n",
              "      <td>&lt;UNK&gt;</td>\n",
              "      <td>&lt;UNK&gt;</td>\n",
              "      <td>&lt;UNK&gt;</td>\n",
              "      <td>1</td>\n",
              "      <td>1</td>\n",
              "      <td>1</td>\n",
              "      <td>1</td>\n",
              "    </tr>\n",
              "    <tr>\n",
              "      <th>1729</th>\n",
              "      <td>Sales &amp; Marketing Assistant</td>\n",
              "      <td>&lt;UNK&gt;</td>\n",
              "      <td>0</td>\n",
              "      <td>1</td>\n",
              "      <td>0</td>\n",
              "      <td>Full-time</td>\n",
              "      <td>Associate</td>\n",
              "      <td>&lt;UNK&gt;</td>\n",
              "      <td>Retail</td>\n",
              "      <td>Marketing</td>\n",
              "      <td>0</td>\n",
              "      <td>GR</td>\n",
              "      <td>Athens</td>\n",
              "      <td>I</td>\n",
              "      <td>0</td>\n",
              "      <td>1</td>\n",
              "      <td>0</td>\n",
              "      <td>1</td>\n",
              "    </tr>\n",
              "    <tr>\n",
              "      <th>1730</th>\n",
              "      <td>RNFA Registered Nurse First Assistant</td>\n",
              "      <td>&lt;UNK&gt;</td>\n",
              "      <td>0</td>\n",
              "      <td>0</td>\n",
              "      <td>0</td>\n",
              "      <td>Part-time</td>\n",
              "      <td>&lt;UNK&gt;</td>\n",
              "      <td>&lt;UNK&gt;</td>\n",
              "      <td>Hospital &amp; Health Care</td>\n",
              "      <td>&lt;UNK&gt;</td>\n",
              "      <td>1</td>\n",
              "      <td>US</td>\n",
              "      <td></td>\n",
              "      <td>OH</td>\n",
              "      <td>1</td>\n",
              "      <td>1</td>\n",
              "      <td>1</td>\n",
              "      <td>1</td>\n",
              "    </tr>\n",
              "    <tr>\n",
              "      <th>1731</th>\n",
              "      <td>Sales - Cyber Security</td>\n",
              "      <td>&lt;UNK&gt;</td>\n",
              "      <td>0</td>\n",
              "      <td>0</td>\n",
              "      <td>0</td>\n",
              "      <td>Full-time</td>\n",
              "      <td>Not Applicable</td>\n",
              "      <td>Unspecified</td>\n",
              "      <td>Information Technology and Services</td>\n",
              "      <td>Sales</td>\n",
              "      <td>0</td>\n",
              "      <td>US</td>\n",
              "      <td>Pittsburgh</td>\n",
              "      <td>PA</td>\n",
              "      <td>0</td>\n",
              "      <td>1</td>\n",
              "      <td>0</td>\n",
              "      <td>0</td>\n",
              "    </tr>\n",
              "  </tbody>\n",
              "</table>\n",
              "<p>1732 rows × 18 columns</p>\n",
              "</div>"
            ],
            "text/plain": [
              "                                            title  ... has_required_education\n",
              "0     Data Entry Clerk / Administrative Assistant  ...                      0\n",
              "1                      Data and Marketing Analyst  ...                      0\n",
              "2                               Marketing Manager  ...                      1\n",
              "3             Restaurant Manager - Le Meridien KL  ...                      1\n",
              "4                         English Teacher Abroad   ...                      0\n",
              "...                                           ...  ...                    ...\n",
              "1727       Account Sales Managers $80-$130,000/yr  ...                      0\n",
              "1728                                         KMC   ...                      1\n",
              "1729                  Sales & Marketing Assistant  ...                      1\n",
              "1730      RNFA Registered Nurse First Assistant    ...                      1\n",
              "1731                       Sales - Cyber Security  ...                      0\n",
              "\n",
              "[1732 rows x 18 columns]"
            ]
          },
          "metadata": {
            "tags": []
          },
          "execution_count": 25
        }
      ]
    },
    {
      "cell_type": "markdown",
      "metadata": {
        "id": "MaFbRaMEY7y1",
        "colab_type": "text"
      },
      "source": [
        "### **One Hot Encode:**"
      ]
    },
    {
      "cell_type": "markdown",
      "metadata": {
        "id": "EAqqqnIH1AmD",
        "colab_type": "text"
      },
      "source": [
        "It is important to one hot encode the values, as all the values should be tokenized into some numerical values. We could potentially just tokenize with different numbers, however, the algorithm can mistake the values of different integer tokens to be their weight. So, one hot encoding, even though it creates a large sparse matrix, is preferred."
      ]
    },
    {
      "cell_type": "code",
      "metadata": {
        "id": "n_7cO_KpY-z0",
        "colab_type": "code",
        "colab": {}
      },
      "source": [
        "from sklearn.preprocessing import OneHotEncoder\n",
        " \n",
        "\n",
        "columns_to_encode =  ['title', 'department', 'employment_type', 'required_experience', 'required_education', 'industry', 'function', 'country', 'state', 'city']\n",
        "ohe    = OneHotEncoder(sparse=False)\n",
        "encoded_columns =    ohe.fit_transform(df_sampled[columns_to_encode])\n",
        "encoded_df = pd.DataFrame(encoded_columns)\n",
        "ohe.get_feature_names()\n",
        "encoded_df.columns = ohe.get_feature_names()\n",
        "\n"
      ],
      "execution_count": null,
      "outputs": []
    },
    {
      "cell_type": "code",
      "metadata": {
        "id": "etjTM8JAnQLZ",
        "colab_type": "code",
        "colab": {
          "base_uri": "https://localhost:8080/",
          "height": 102
        },
        "outputId": "16a815a8-ba08-41ae-ade6-fe9715d82b04"
      },
      "source": [
        "ohe.get_params()"
      ],
      "execution_count": null,
      "outputs": [
        {
          "output_type": "execute_result",
          "data": {
            "text/plain": [
              "{'categories': 'auto',\n",
              " 'drop': None,\n",
              " 'dtype': numpy.float64,\n",
              " 'handle_unknown': 'error',\n",
              " 'sparse': False}"
            ]
          },
          "metadata": {
            "tags": []
          },
          "execution_count": 27
        }
      ]
    },
    {
      "cell_type": "markdown",
      "metadata": {
        "id": "Q5wLxXiU1jK_",
        "colab_type": "text"
      },
      "source": [
        "Here, we have the encoded dataframe consisting of the one hot values for the categorical fields."
      ]
    },
    {
      "cell_type": "code",
      "metadata": {
        "id": "pgh0c5g_gJ7Y",
        "colab_type": "code",
        "colab": {
          "base_uri": "https://localhost:8080/",
          "height": 389
        },
        "outputId": "77bf48eb-a088-4b59-ebf7-ef13dbb9b9f6"
      },
      "source": [
        "encoded_df.head()"
      ],
      "execution_count": null,
      "outputs": [
        {
          "output_type": "execute_result",
          "data": {
            "text/html": [
              "<div>\n",
              "<style scoped>\n",
              "    .dataframe tbody tr th:only-of-type {\n",
              "        vertical-align: middle;\n",
              "    }\n",
              "\n",
              "    .dataframe tbody tr th {\n",
              "        vertical-align: top;\n",
              "    }\n",
              "\n",
              "    .dataframe thead th {\n",
              "        text-align: right;\n",
              "    }\n",
              "</style>\n",
              "<table border=\"1\" class=\"dataframe\">\n",
              "  <thead>\n",
              "    <tr style=\"text-align: right;\">\n",
              "      <th></th>\n",
              "      <th>x0_   Environmental Technician I</th>\n",
              "      <th>x0_   Piping Material Engineer</th>\n",
              "      <th>x0_  Discipline Manager Civil, Structural, Marine, Architectural</th>\n",
              "      <th>x0_  FEA Senior engineer</th>\n",
              "      <th>x0_  Manager of Project Management Organization - Engineering</th>\n",
              "      <th>x0_  Mechanical Engineering Manager</th>\n",
              "      <th>x0_  Resources Change Management, Process Excellence and Change Enablement Manager</th>\n",
              "      <th>x0_ Accounting Clerk</th>\n",
              "      <th>x0_ Accounting/Bookkeeping</th>\n",
              "      <th>x0_ CAD Operator</th>\n",
              "      <th>x0_ CNC Programmer</th>\n",
              "      <th>x0_ Co-Superstar (Asst. Store Manager) - St. Louis Galleria</th>\n",
              "      <th>x0_ Customer Analytics Specialist</th>\n",
              "      <th>x0_ Customer Care Representative I</th>\n",
              "      <th>x0_ Data Entry Representative</th>\n",
              "      <th>x0_ Digital Brand Architects Community Manager</th>\n",
              "      <th>x0_ Drilling Engineer - Exploration</th>\n",
              "      <th>x0_ Hiring for Business Intelligence and Analytics Project Manager</th>\n",
              "      <th>x0_ JOB VACANCIES AT MONTCALM LUXURY HOTEL LONDON.</th>\n",
              "      <th>x0_ Jr. Business Analyst &amp; Quality Analyst (entry level)</th>\n",
              "      <th>x0_ MAIL CLERK</th>\n",
              "      <th>x0_ Medical Intake Representative (Data Entry)</th>\n",
              "      <th>x0_ Onshore Scaffolding Coordinator</th>\n",
              "      <th>x0_ Payroll Data Entry Clerk Position - Earn $100-$200 Daily</th>\n",
              "      <th>x0_ Production Technician   1781</th>\n",
              "      <th>x0_ SENIOR CORPORATE RECCRUITER</th>\n",
              "      <th>x0_ Sr. Process Engineer</th>\n",
              "      <th>x0_ iSeries Team Lead</th>\n",
              "      <th>x0_(Senior) Structural Engineer</th>\n",
              "      <th>x0_(Work from Home) $20/hr</th>\n",
              "      <th>x0_. Net Developers</th>\n",
              "      <th>x0_.NET Web Developer</th>\n",
              "      <th>x0_.NET developer</th>\n",
              "      <th>x0_.Net developer</th>\n",
              "      <th>x0_2015 Undergrad- Account Management Associate</th>\n",
              "      <th>x0_3D Artist</th>\n",
              "      <th>x0_3D Audio Engineer</th>\n",
              "      <th>x0_5 Guys</th>\n",
              "      <th>x0_ADF Operator II</th>\n",
              "      <th>x0_ADMINISTRATIVE &amp; OFFICE ASSISTANT</th>\n",
              "      <th>...</th>\n",
              "      <th>x9_ NH</th>\n",
              "      <th>x9_ NJ</th>\n",
              "      <th>x9_ NM</th>\n",
              "      <th>x9_ NS</th>\n",
              "      <th>x9_ NSW</th>\n",
              "      <th>x9_ NV</th>\n",
              "      <th>x9_ NY</th>\n",
              "      <th>x9_ NYK</th>\n",
              "      <th>x9_ OH</th>\n",
              "      <th>x9_ OK</th>\n",
              "      <th>x9_ OL</th>\n",
              "      <th>x9_ ON</th>\n",
              "      <th>x9_ OR</th>\n",
              "      <th>x9_ PA</th>\n",
              "      <th>x9_ PKN</th>\n",
              "      <th>x9_ QC</th>\n",
              "      <th>x9_ QLD</th>\n",
              "      <th>x9_ RI</th>\n",
              "      <th>x9_ RIC</th>\n",
              "      <th>x9_ RJ</th>\n",
              "      <th>x9_ SC</th>\n",
              "      <th>x9_ SD</th>\n",
              "      <th>x9_ SHF</th>\n",
              "      <th>x9_ SP</th>\n",
              "      <th>x9_ TA</th>\n",
              "      <th>x9_ TN</th>\n",
              "      <th>x9_ TPQ</th>\n",
              "      <th>x9_ TX</th>\n",
              "      <th>x9_ UT</th>\n",
              "      <th>x9_ VA</th>\n",
              "      <th>x9_ VC</th>\n",
              "      <th>x9_ VIC</th>\n",
              "      <th>x9_ VOV</th>\n",
              "      <th>x9_ WA</th>\n",
              "      <th>x9_ WC</th>\n",
              "      <th>x9_ WGN</th>\n",
              "      <th>x9_ WI</th>\n",
              "      <th>x9_ WSX</th>\n",
              "      <th>x9_ WV</th>\n",
              "      <th>x9_&lt;UNK&gt;</th>\n",
              "    </tr>\n",
              "  </thead>\n",
              "  <tbody>\n",
              "    <tr>\n",
              "      <th>0</th>\n",
              "      <td>0.0</td>\n",
              "      <td>0.0</td>\n",
              "      <td>0.0</td>\n",
              "      <td>0.0</td>\n",
              "      <td>0.0</td>\n",
              "      <td>0.0</td>\n",
              "      <td>0.0</td>\n",
              "      <td>0.0</td>\n",
              "      <td>0.0</td>\n",
              "      <td>0.0</td>\n",
              "      <td>0.0</td>\n",
              "      <td>0.0</td>\n",
              "      <td>0.0</td>\n",
              "      <td>0.0</td>\n",
              "      <td>0.0</td>\n",
              "      <td>0.0</td>\n",
              "      <td>0.0</td>\n",
              "      <td>0.0</td>\n",
              "      <td>0.0</td>\n",
              "      <td>0.0</td>\n",
              "      <td>0.0</td>\n",
              "      <td>0.0</td>\n",
              "      <td>0.0</td>\n",
              "      <td>0.0</td>\n",
              "      <td>0.0</td>\n",
              "      <td>0.0</td>\n",
              "      <td>0.0</td>\n",
              "      <td>0.0</td>\n",
              "      <td>0.0</td>\n",
              "      <td>0.0</td>\n",
              "      <td>0.0</td>\n",
              "      <td>0.0</td>\n",
              "      <td>0.0</td>\n",
              "      <td>0.0</td>\n",
              "      <td>0.0</td>\n",
              "      <td>0.0</td>\n",
              "      <td>0.0</td>\n",
              "      <td>0.0</td>\n",
              "      <td>0.0</td>\n",
              "      <td>0.0</td>\n",
              "      <td>...</td>\n",
              "      <td>0.0</td>\n",
              "      <td>0.0</td>\n",
              "      <td>0.0</td>\n",
              "      <td>0.0</td>\n",
              "      <td>0.0</td>\n",
              "      <td>0.0</td>\n",
              "      <td>0.0</td>\n",
              "      <td>0.0</td>\n",
              "      <td>0.0</td>\n",
              "      <td>0.0</td>\n",
              "      <td>0.0</td>\n",
              "      <td>0.0</td>\n",
              "      <td>0.0</td>\n",
              "      <td>0.0</td>\n",
              "      <td>0.0</td>\n",
              "      <td>0.0</td>\n",
              "      <td>0.0</td>\n",
              "      <td>0.0</td>\n",
              "      <td>0.0</td>\n",
              "      <td>0.0</td>\n",
              "      <td>0.0</td>\n",
              "      <td>0.0</td>\n",
              "      <td>0.0</td>\n",
              "      <td>0.0</td>\n",
              "      <td>0.0</td>\n",
              "      <td>0.0</td>\n",
              "      <td>0.0</td>\n",
              "      <td>0.0</td>\n",
              "      <td>0.0</td>\n",
              "      <td>0.0</td>\n",
              "      <td>0.0</td>\n",
              "      <td>0.0</td>\n",
              "      <td>0.0</td>\n",
              "      <td>0.0</td>\n",
              "      <td>0.0</td>\n",
              "      <td>0.0</td>\n",
              "      <td>0.0</td>\n",
              "      <td>0.0</td>\n",
              "      <td>0.0</td>\n",
              "      <td>0.0</td>\n",
              "    </tr>\n",
              "    <tr>\n",
              "      <th>1</th>\n",
              "      <td>0.0</td>\n",
              "      <td>0.0</td>\n",
              "      <td>0.0</td>\n",
              "      <td>0.0</td>\n",
              "      <td>0.0</td>\n",
              "      <td>0.0</td>\n",
              "      <td>0.0</td>\n",
              "      <td>0.0</td>\n",
              "      <td>0.0</td>\n",
              "      <td>0.0</td>\n",
              "      <td>0.0</td>\n",
              "      <td>0.0</td>\n",
              "      <td>0.0</td>\n",
              "      <td>0.0</td>\n",
              "      <td>0.0</td>\n",
              "      <td>0.0</td>\n",
              "      <td>0.0</td>\n",
              "      <td>0.0</td>\n",
              "      <td>0.0</td>\n",
              "      <td>0.0</td>\n",
              "      <td>0.0</td>\n",
              "      <td>0.0</td>\n",
              "      <td>0.0</td>\n",
              "      <td>0.0</td>\n",
              "      <td>0.0</td>\n",
              "      <td>0.0</td>\n",
              "      <td>0.0</td>\n",
              "      <td>0.0</td>\n",
              "      <td>0.0</td>\n",
              "      <td>0.0</td>\n",
              "      <td>0.0</td>\n",
              "      <td>0.0</td>\n",
              "      <td>0.0</td>\n",
              "      <td>0.0</td>\n",
              "      <td>0.0</td>\n",
              "      <td>0.0</td>\n",
              "      <td>0.0</td>\n",
              "      <td>0.0</td>\n",
              "      <td>0.0</td>\n",
              "      <td>0.0</td>\n",
              "      <td>...</td>\n",
              "      <td>0.0</td>\n",
              "      <td>0.0</td>\n",
              "      <td>0.0</td>\n",
              "      <td>0.0</td>\n",
              "      <td>0.0</td>\n",
              "      <td>0.0</td>\n",
              "      <td>0.0</td>\n",
              "      <td>0.0</td>\n",
              "      <td>0.0</td>\n",
              "      <td>0.0</td>\n",
              "      <td>0.0</td>\n",
              "      <td>0.0</td>\n",
              "      <td>0.0</td>\n",
              "      <td>0.0</td>\n",
              "      <td>0.0</td>\n",
              "      <td>0.0</td>\n",
              "      <td>0.0</td>\n",
              "      <td>0.0</td>\n",
              "      <td>0.0</td>\n",
              "      <td>0.0</td>\n",
              "      <td>0.0</td>\n",
              "      <td>0.0</td>\n",
              "      <td>0.0</td>\n",
              "      <td>0.0</td>\n",
              "      <td>0.0</td>\n",
              "      <td>0.0</td>\n",
              "      <td>0.0</td>\n",
              "      <td>0.0</td>\n",
              "      <td>0.0</td>\n",
              "      <td>0.0</td>\n",
              "      <td>0.0</td>\n",
              "      <td>0.0</td>\n",
              "      <td>0.0</td>\n",
              "      <td>0.0</td>\n",
              "      <td>0.0</td>\n",
              "      <td>0.0</td>\n",
              "      <td>0.0</td>\n",
              "      <td>0.0</td>\n",
              "      <td>0.0</td>\n",
              "      <td>0.0</td>\n",
              "    </tr>\n",
              "    <tr>\n",
              "      <th>2</th>\n",
              "      <td>0.0</td>\n",
              "      <td>0.0</td>\n",
              "      <td>0.0</td>\n",
              "      <td>0.0</td>\n",
              "      <td>0.0</td>\n",
              "      <td>0.0</td>\n",
              "      <td>0.0</td>\n",
              "      <td>0.0</td>\n",
              "      <td>0.0</td>\n",
              "      <td>0.0</td>\n",
              "      <td>0.0</td>\n",
              "      <td>0.0</td>\n",
              "      <td>0.0</td>\n",
              "      <td>0.0</td>\n",
              "      <td>0.0</td>\n",
              "      <td>0.0</td>\n",
              "      <td>0.0</td>\n",
              "      <td>0.0</td>\n",
              "      <td>0.0</td>\n",
              "      <td>0.0</td>\n",
              "      <td>0.0</td>\n",
              "      <td>0.0</td>\n",
              "      <td>0.0</td>\n",
              "      <td>0.0</td>\n",
              "      <td>0.0</td>\n",
              "      <td>0.0</td>\n",
              "      <td>0.0</td>\n",
              "      <td>0.0</td>\n",
              "      <td>0.0</td>\n",
              "      <td>0.0</td>\n",
              "      <td>0.0</td>\n",
              "      <td>0.0</td>\n",
              "      <td>0.0</td>\n",
              "      <td>0.0</td>\n",
              "      <td>0.0</td>\n",
              "      <td>0.0</td>\n",
              "      <td>0.0</td>\n",
              "      <td>0.0</td>\n",
              "      <td>0.0</td>\n",
              "      <td>0.0</td>\n",
              "      <td>...</td>\n",
              "      <td>0.0</td>\n",
              "      <td>0.0</td>\n",
              "      <td>0.0</td>\n",
              "      <td>0.0</td>\n",
              "      <td>0.0</td>\n",
              "      <td>0.0</td>\n",
              "      <td>0.0</td>\n",
              "      <td>0.0</td>\n",
              "      <td>0.0</td>\n",
              "      <td>0.0</td>\n",
              "      <td>0.0</td>\n",
              "      <td>0.0</td>\n",
              "      <td>0.0</td>\n",
              "      <td>0.0</td>\n",
              "      <td>0.0</td>\n",
              "      <td>0.0</td>\n",
              "      <td>0.0</td>\n",
              "      <td>0.0</td>\n",
              "      <td>0.0</td>\n",
              "      <td>0.0</td>\n",
              "      <td>0.0</td>\n",
              "      <td>0.0</td>\n",
              "      <td>0.0</td>\n",
              "      <td>0.0</td>\n",
              "      <td>0.0</td>\n",
              "      <td>0.0</td>\n",
              "      <td>0.0</td>\n",
              "      <td>0.0</td>\n",
              "      <td>0.0</td>\n",
              "      <td>0.0</td>\n",
              "      <td>0.0</td>\n",
              "      <td>0.0</td>\n",
              "      <td>0.0</td>\n",
              "      <td>0.0</td>\n",
              "      <td>0.0</td>\n",
              "      <td>0.0</td>\n",
              "      <td>0.0</td>\n",
              "      <td>0.0</td>\n",
              "      <td>0.0</td>\n",
              "      <td>0.0</td>\n",
              "    </tr>\n",
              "    <tr>\n",
              "      <th>3</th>\n",
              "      <td>0.0</td>\n",
              "      <td>0.0</td>\n",
              "      <td>0.0</td>\n",
              "      <td>0.0</td>\n",
              "      <td>0.0</td>\n",
              "      <td>0.0</td>\n",
              "      <td>0.0</td>\n",
              "      <td>0.0</td>\n",
              "      <td>0.0</td>\n",
              "      <td>0.0</td>\n",
              "      <td>0.0</td>\n",
              "      <td>0.0</td>\n",
              "      <td>0.0</td>\n",
              "      <td>0.0</td>\n",
              "      <td>0.0</td>\n",
              "      <td>0.0</td>\n",
              "      <td>0.0</td>\n",
              "      <td>0.0</td>\n",
              "      <td>0.0</td>\n",
              "      <td>0.0</td>\n",
              "      <td>0.0</td>\n",
              "      <td>0.0</td>\n",
              "      <td>0.0</td>\n",
              "      <td>0.0</td>\n",
              "      <td>0.0</td>\n",
              "      <td>0.0</td>\n",
              "      <td>0.0</td>\n",
              "      <td>0.0</td>\n",
              "      <td>0.0</td>\n",
              "      <td>0.0</td>\n",
              "      <td>0.0</td>\n",
              "      <td>0.0</td>\n",
              "      <td>0.0</td>\n",
              "      <td>0.0</td>\n",
              "      <td>0.0</td>\n",
              "      <td>0.0</td>\n",
              "      <td>0.0</td>\n",
              "      <td>0.0</td>\n",
              "      <td>0.0</td>\n",
              "      <td>0.0</td>\n",
              "      <td>...</td>\n",
              "      <td>0.0</td>\n",
              "      <td>0.0</td>\n",
              "      <td>0.0</td>\n",
              "      <td>0.0</td>\n",
              "      <td>0.0</td>\n",
              "      <td>0.0</td>\n",
              "      <td>0.0</td>\n",
              "      <td>0.0</td>\n",
              "      <td>0.0</td>\n",
              "      <td>0.0</td>\n",
              "      <td>0.0</td>\n",
              "      <td>0.0</td>\n",
              "      <td>0.0</td>\n",
              "      <td>0.0</td>\n",
              "      <td>0.0</td>\n",
              "      <td>0.0</td>\n",
              "      <td>0.0</td>\n",
              "      <td>0.0</td>\n",
              "      <td>0.0</td>\n",
              "      <td>0.0</td>\n",
              "      <td>0.0</td>\n",
              "      <td>0.0</td>\n",
              "      <td>0.0</td>\n",
              "      <td>0.0</td>\n",
              "      <td>0.0</td>\n",
              "      <td>0.0</td>\n",
              "      <td>0.0</td>\n",
              "      <td>0.0</td>\n",
              "      <td>0.0</td>\n",
              "      <td>0.0</td>\n",
              "      <td>0.0</td>\n",
              "      <td>0.0</td>\n",
              "      <td>0.0</td>\n",
              "      <td>0.0</td>\n",
              "      <td>0.0</td>\n",
              "      <td>0.0</td>\n",
              "      <td>0.0</td>\n",
              "      <td>0.0</td>\n",
              "      <td>0.0</td>\n",
              "      <td>0.0</td>\n",
              "    </tr>\n",
              "    <tr>\n",
              "      <th>4</th>\n",
              "      <td>0.0</td>\n",
              "      <td>0.0</td>\n",
              "      <td>0.0</td>\n",
              "      <td>0.0</td>\n",
              "      <td>0.0</td>\n",
              "      <td>0.0</td>\n",
              "      <td>0.0</td>\n",
              "      <td>0.0</td>\n",
              "      <td>0.0</td>\n",
              "      <td>0.0</td>\n",
              "      <td>0.0</td>\n",
              "      <td>0.0</td>\n",
              "      <td>0.0</td>\n",
              "      <td>0.0</td>\n",
              "      <td>0.0</td>\n",
              "      <td>0.0</td>\n",
              "      <td>0.0</td>\n",
              "      <td>0.0</td>\n",
              "      <td>0.0</td>\n",
              "      <td>0.0</td>\n",
              "      <td>0.0</td>\n",
              "      <td>0.0</td>\n",
              "      <td>0.0</td>\n",
              "      <td>0.0</td>\n",
              "      <td>0.0</td>\n",
              "      <td>0.0</td>\n",
              "      <td>0.0</td>\n",
              "      <td>0.0</td>\n",
              "      <td>0.0</td>\n",
              "      <td>0.0</td>\n",
              "      <td>0.0</td>\n",
              "      <td>0.0</td>\n",
              "      <td>0.0</td>\n",
              "      <td>0.0</td>\n",
              "      <td>0.0</td>\n",
              "      <td>0.0</td>\n",
              "      <td>0.0</td>\n",
              "      <td>0.0</td>\n",
              "      <td>0.0</td>\n",
              "      <td>0.0</td>\n",
              "      <td>...</td>\n",
              "      <td>0.0</td>\n",
              "      <td>0.0</td>\n",
              "      <td>0.0</td>\n",
              "      <td>0.0</td>\n",
              "      <td>0.0</td>\n",
              "      <td>0.0</td>\n",
              "      <td>1.0</td>\n",
              "      <td>0.0</td>\n",
              "      <td>0.0</td>\n",
              "      <td>0.0</td>\n",
              "      <td>0.0</td>\n",
              "      <td>0.0</td>\n",
              "      <td>0.0</td>\n",
              "      <td>0.0</td>\n",
              "      <td>0.0</td>\n",
              "      <td>0.0</td>\n",
              "      <td>0.0</td>\n",
              "      <td>0.0</td>\n",
              "      <td>0.0</td>\n",
              "      <td>0.0</td>\n",
              "      <td>0.0</td>\n",
              "      <td>0.0</td>\n",
              "      <td>0.0</td>\n",
              "      <td>0.0</td>\n",
              "      <td>0.0</td>\n",
              "      <td>0.0</td>\n",
              "      <td>0.0</td>\n",
              "      <td>0.0</td>\n",
              "      <td>0.0</td>\n",
              "      <td>0.0</td>\n",
              "      <td>0.0</td>\n",
              "      <td>0.0</td>\n",
              "      <td>0.0</td>\n",
              "      <td>0.0</td>\n",
              "      <td>0.0</td>\n",
              "      <td>0.0</td>\n",
              "      <td>0.0</td>\n",
              "      <td>0.0</td>\n",
              "      <td>0.0</td>\n",
              "      <td>0.0</td>\n",
              "    </tr>\n",
              "  </tbody>\n",
              "</table>\n",
              "<p>5 rows × 2470 columns</p>\n",
              "</div>"
            ],
            "text/plain": [
              "   x0_   Environmental Technician I  ...  x9_<UNK>\n",
              "0                               0.0  ...       0.0\n",
              "1                               0.0  ...       0.0\n",
              "2                               0.0  ...       0.0\n",
              "3                               0.0  ...       0.0\n",
              "4                               0.0  ...       0.0\n",
              "\n",
              "[5 rows x 2470 columns]"
            ]
          },
          "metadata": {
            "tags": []
          },
          "execution_count": 28
        }
      ]
    },
    {
      "cell_type": "markdown",
      "metadata": {
        "id": "KZ36L2Nw2MhM",
        "colab_type": "text"
      },
      "source": [
        "We can now drop the categorical feature columns which we encoded."
      ]
    },
    {
      "cell_type": "code",
      "metadata": {
        "id": "_JZKwsvhmiRC",
        "colab_type": "code",
        "colab": {}
      },
      "source": [
        "df_sampled_mod = df_sampled.drop(labels = columns_to_encode, axis=1)"
      ],
      "execution_count": null,
      "outputs": []
    },
    {
      "cell_type": "code",
      "metadata": {
        "id": "btI-qghfjtNo",
        "colab_type": "code",
        "colab": {
          "base_uri": "https://localhost:8080/",
          "height": 439
        },
        "outputId": "3b74dd22-b1ce-4ae3-f273-40935410063a"
      },
      "source": [
        "df_sampled_mod"
      ],
      "execution_count": null,
      "outputs": [
        {
          "output_type": "execute_result",
          "data": {
            "text/html": [
              "<div>\n",
              "<style scoped>\n",
              "    .dataframe tbody tr th:only-of-type {\n",
              "        vertical-align: middle;\n",
              "    }\n",
              "\n",
              "    .dataframe tbody tr th {\n",
              "        vertical-align: top;\n",
              "    }\n",
              "\n",
              "    .dataframe thead th {\n",
              "        text-align: right;\n",
              "    }\n",
              "</style>\n",
              "<table border=\"1\" class=\"dataframe\">\n",
              "  <thead>\n",
              "    <tr style=\"text-align: right;\">\n",
              "      <th></th>\n",
              "      <th>telecommuting</th>\n",
              "      <th>has_company_logo</th>\n",
              "      <th>has_questions</th>\n",
              "      <th>fraudulent</th>\n",
              "      <th>has_company_profile</th>\n",
              "      <th>has_salary_range</th>\n",
              "      <th>has_required_experience</th>\n",
              "      <th>has_required_education</th>\n",
              "    </tr>\n",
              "  </thead>\n",
              "  <tbody>\n",
              "    <tr>\n",
              "      <th>0</th>\n",
              "      <td>0</td>\n",
              "      <td>0</td>\n",
              "      <td>0</td>\n",
              "      <td>1</td>\n",
              "      <td>1</td>\n",
              "      <td>0</td>\n",
              "      <td>0</td>\n",
              "      <td>0</td>\n",
              "    </tr>\n",
              "    <tr>\n",
              "      <th>1</th>\n",
              "      <td>0</td>\n",
              "      <td>1</td>\n",
              "      <td>1</td>\n",
              "      <td>0</td>\n",
              "      <td>0</td>\n",
              "      <td>1</td>\n",
              "      <td>0</td>\n",
              "      <td>0</td>\n",
              "    </tr>\n",
              "    <tr>\n",
              "      <th>2</th>\n",
              "      <td>0</td>\n",
              "      <td>1</td>\n",
              "      <td>0</td>\n",
              "      <td>0</td>\n",
              "      <td>0</td>\n",
              "      <td>1</td>\n",
              "      <td>0</td>\n",
              "      <td>1</td>\n",
              "    </tr>\n",
              "    <tr>\n",
              "      <th>3</th>\n",
              "      <td>0</td>\n",
              "      <td>1</td>\n",
              "      <td>0</td>\n",
              "      <td>1</td>\n",
              "      <td>0</td>\n",
              "      <td>1</td>\n",
              "      <td>1</td>\n",
              "      <td>1</td>\n",
              "    </tr>\n",
              "    <tr>\n",
              "      <th>4</th>\n",
              "      <td>0</td>\n",
              "      <td>1</td>\n",
              "      <td>1</td>\n",
              "      <td>0</td>\n",
              "      <td>0</td>\n",
              "      <td>1</td>\n",
              "      <td>1</td>\n",
              "      <td>0</td>\n",
              "    </tr>\n",
              "    <tr>\n",
              "      <th>...</th>\n",
              "      <td>...</td>\n",
              "      <td>...</td>\n",
              "      <td>...</td>\n",
              "      <td>...</td>\n",
              "      <td>...</td>\n",
              "      <td>...</td>\n",
              "      <td>...</td>\n",
              "      <td>...</td>\n",
              "    </tr>\n",
              "    <tr>\n",
              "      <th>1727</th>\n",
              "      <td>0</td>\n",
              "      <td>1</td>\n",
              "      <td>0</td>\n",
              "      <td>1</td>\n",
              "      <td>0</td>\n",
              "      <td>1</td>\n",
              "      <td>0</td>\n",
              "      <td>0</td>\n",
              "    </tr>\n",
              "    <tr>\n",
              "      <th>1728</th>\n",
              "      <td>0</td>\n",
              "      <td>0</td>\n",
              "      <td>0</td>\n",
              "      <td>1</td>\n",
              "      <td>1</td>\n",
              "      <td>1</td>\n",
              "      <td>1</td>\n",
              "      <td>1</td>\n",
              "    </tr>\n",
              "    <tr>\n",
              "      <th>1729</th>\n",
              "      <td>0</td>\n",
              "      <td>1</td>\n",
              "      <td>0</td>\n",
              "      <td>0</td>\n",
              "      <td>0</td>\n",
              "      <td>1</td>\n",
              "      <td>0</td>\n",
              "      <td>1</td>\n",
              "    </tr>\n",
              "    <tr>\n",
              "      <th>1730</th>\n",
              "      <td>0</td>\n",
              "      <td>0</td>\n",
              "      <td>0</td>\n",
              "      <td>1</td>\n",
              "      <td>1</td>\n",
              "      <td>1</td>\n",
              "      <td>1</td>\n",
              "      <td>1</td>\n",
              "    </tr>\n",
              "    <tr>\n",
              "      <th>1731</th>\n",
              "      <td>0</td>\n",
              "      <td>0</td>\n",
              "      <td>0</td>\n",
              "      <td>0</td>\n",
              "      <td>0</td>\n",
              "      <td>1</td>\n",
              "      <td>0</td>\n",
              "      <td>0</td>\n",
              "    </tr>\n",
              "  </tbody>\n",
              "</table>\n",
              "<p>1732 rows × 8 columns</p>\n",
              "</div>"
            ],
            "text/plain": [
              "      telecommuting  ...  has_required_education\n",
              "0                 0  ...                       0\n",
              "1                 0  ...                       0\n",
              "2                 0  ...                       1\n",
              "3                 0  ...                       1\n",
              "4                 0  ...                       0\n",
              "...             ...  ...                     ...\n",
              "1727              0  ...                       0\n",
              "1728              0  ...                       1\n",
              "1729              0  ...                       1\n",
              "1730              0  ...                       1\n",
              "1731              0  ...                       0\n",
              "\n",
              "[1732 rows x 8 columns]"
            ]
          },
          "metadata": {
            "tags": []
          },
          "execution_count": 30
        }
      ]
    },
    {
      "cell_type": "code",
      "metadata": {
        "id": "j6ggJNpHngOJ",
        "colab_type": "code",
        "colab": {}
      },
      "source": [
        "df_final = pd.concat([df_sampled_mod, encoded_df], axis=1)"
      ],
      "execution_count": null,
      "outputs": []
    },
    {
      "cell_type": "markdown",
      "metadata": {
        "id": "nazP4IKO2YVP",
        "colab_type": "text"
      },
      "source": [
        "Finally, we have our features X and target y."
      ]
    },
    {
      "cell_type": "code",
      "metadata": {
        "id": "muSxhF5nrRbe",
        "colab_type": "code",
        "colab": {}
      },
      "source": [
        "X = df_final.loc[:, df_final.columns != 'fraudulent']"
      ],
      "execution_count": null,
      "outputs": []
    },
    {
      "cell_type": "code",
      "metadata": {
        "id": "WIpdHnLErmDg",
        "colab_type": "code",
        "colab": {}
      },
      "source": [
        "y = df_final['fraudulent']"
      ],
      "execution_count": null,
      "outputs": []
    },
    {
      "cell_type": "markdown",
      "metadata": {
        "id": "fjiwtS_hrCk0",
        "colab_type": "text"
      },
      "source": [
        "### **Split training and test data:**"
      ]
    },
    {
      "cell_type": "code",
      "metadata": {
        "id": "zpmfi3onrFVS",
        "colab_type": "code",
        "colab": {}
      },
      "source": [
        "from sklearn.model_selection import train_test_split\n"
      ],
      "execution_count": null,
      "outputs": []
    },
    {
      "cell_type": "code",
      "metadata": {
        "id": "SHC35GW3rGmD",
        "colab_type": "code",
        "colab": {}
      },
      "source": [
        "X_train, X_test, y_train, y_test = train_test_split(X, y, test_size=0.3)\n"
      ],
      "execution_count": null,
      "outputs": []
    },
    {
      "cell_type": "code",
      "metadata": {
        "id": "eCh_pSQOjkSn",
        "colab_type": "code",
        "colab": {}
      },
      "source": [
        "X_train_flat = X_train.values.T\n",
        "X_test_flat = X_test.values.T"
      ],
      "execution_count": null,
      "outputs": []
    },
    {
      "cell_type": "code",
      "metadata": {
        "id": "K-wNM2qeTLho",
        "colab_type": "code",
        "colab": {}
      },
      "source": [
        "y_train_flat = y_train.values.reshape(1, -1)\n",
        "y_test_flat = y_test.values.reshape(1, -1)"
      ],
      "execution_count": null,
      "outputs": []
    },
    {
      "cell_type": "code",
      "metadata": {
        "id": "Fy6fA7ocwBqa",
        "colab_type": "code",
        "colab": {
          "base_uri": "https://localhost:8080/",
          "height": 34
        },
        "outputId": "178f6522-f5d7-4690-b785-b8b1ae9e39f2"
      },
      "source": [
        "X_train_flat.shape, y_train_flat.shape"
      ],
      "execution_count": null,
      "outputs": [
        {
          "output_type": "execute_result",
          "data": {
            "text/plain": [
              "((2477, 1212), (1, 1212))"
            ]
          },
          "metadata": {
            "tags": []
          },
          "execution_count": 38
        }
      ]
    },
    {
      "cell_type": "markdown",
      "metadata": {
        "id": "88T_S0WujcD3",
        "colab_type": "text"
      },
      "source": [
        "## **Logistic regression using Neural Networks**"
      ]
    },
    {
      "cell_type": "markdown",
      "metadata": {
        "id": "A-aovixFvXdM",
        "colab_type": "text"
      },
      "source": [
        "As a first step, we will be doing a simple one layer neural network with logistic activation. This essentially resolves to logistic regression. All the features are connected to a single node which outputs the final prediction whether the advertisement is real or fake."
      ]
    },
    {
      "cell_type": "code",
      "metadata": {
        "id": "7mH67fuawJ7k",
        "colab_type": "code",
        "colab": {}
      },
      "source": [
        "def sigmoid(z):\n",
        "  return 1/(1+np.exp(-z))"
      ],
      "execution_count": null,
      "outputs": []
    },
    {
      "cell_type": "markdown",
      "metadata": {
        "id": "fO-RlaUAvyx3",
        "colab_type": "text"
      },
      "source": [
        "We initialize the weight and bias vectors. The weight vectors are initialized to gaussian random variables whereas the bias vector is initialized to zero."
      ]
    },
    {
      "cell_type": "code",
      "metadata": {
        "id": "Wvr7OmrWMB38",
        "colab_type": "code",
        "colab": {}
      },
      "source": [
        "def initialize(n):\n",
        "  w = np.random.randn(n,1) + np.sqrt(2/(2478))\n",
        "  b = 0\n",
        "  return w, b"
      ],
      "execution_count": null,
      "outputs": []
    },
    {
      "cell_type": "markdown",
      "metadata": {
        "id": "KXFR_xn-wGeh",
        "colab_type": "text"
      },
      "source": [
        "We then have the propagate function for both the forward and backward propagation step of the neural network for training.\n",
        "\n",
        "For the forward propagation, the function takes w, b and X as input. The activation function after the propagation through the sigmoid unit is given by A. Here, we have vectorized the operation, meaning that all the m training examples are propagated at the same time, saving operation time and complexity.\n",
        "\n",
        "Then the function calculates total cost, which we have defined here as binary cross-entropy. It essentially calculates the log likelihood of prediction being correct during the training phase.\n",
        "\n",
        "Then there is the backward propagation step. For this we need to calculate the derivatives of the cost with respect to A, Z, w and b. These four derivatives are represented by dA, dZ, dw and db respectively."
      ]
    },
    {
      "cell_type": "code",
      "metadata": {
        "id": "zWSbbSnJwqir",
        "colab_type": "code",
        "colab": {}
      },
      "source": [
        "def propagate(w, b, X, y):\n",
        "  A = sigmoid(np.dot(w.T, X) + b)   \n",
        "  cost = (-1/X.shape[1]) * np.sum(y * np.log(A) + (1-y)* np.log(1-A))\n",
        "  dA = -y/A - (1-y)/(1-A)\n",
        "  dZ = A - y\n",
        "  dw = np.dot(X, dZ.T) * (1. / X.shape[1])\n",
        "  db = np.sum(A - y) * (1. / X.shape[1])\n",
        "\n",
        "  grads = {\"dw\": dw, \"db\": db}\n",
        "  return grads, cost"
      ],
      "execution_count": null,
      "outputs": []
    },
    {
      "cell_type": "markdown",
      "metadata": {
        "id": "9B-ikxu0xg9R",
        "colab_type": "text"
      },
      "source": [
        "Now, the idea is to perform the optimization step. This function takes number of iterations and learning rate as hyperparameters. \n",
        "\n",
        "For each iteration, this function performs one step of the forward and backward propagation step and then updates the weights respectively.  "
      ]
    },
    {
      "cell_type": "code",
      "metadata": {
        "id": "ITNOTDUA-fz_",
        "colab_type": "code",
        "colab": {}
      },
      "source": [
        "def optimization(w, b, X, y, num_iterations, learning_rate):\n",
        "\n",
        "  costs = []\n",
        "\n",
        "  for i in range(num_iterations):\n",
        "    grads, cost = propagate(w, b, X, y)\n",
        "\n",
        "    if i % 100 == 0:\n",
        "      costs.append(cost)  \n",
        "      print (\"Cost after iteration %i: %f\" %(i, cost))\n",
        "\n",
        "    dw = grads['dw']\n",
        "    db = grads['db']\n",
        "\n",
        "    w = w - learning_rate*dw\n",
        "    b = b - learning_rate*db\n",
        "\n",
        "  params = {\"w\": w, \"b\": b}\n",
        "  grads = {\"dw\": dw, \"db\": db}\n",
        "\n",
        "  return params, grads, costs\n",
        "  "
      ],
      "execution_count": null,
      "outputs": []
    },
    {
      "cell_type": "markdown",
      "metadata": {
        "id": "vNPDLVHyx_tK",
        "colab_type": "text"
      },
      "source": [
        "Now given the final estimates of w and b, we need to a function predict to output the predictions y given X. The activations output from the sigmoid unit gives a value between 0 and 1. Hence, here we consider 0.5 as the threshold to discretize the activations."
      ]
    },
    {
      "cell_type": "code",
      "metadata": {
        "id": "-JwhbAy3KB1R",
        "colab_type": "code",
        "colab": {}
      },
      "source": [
        "def predict(w, b, X):\n",
        "  m = X.shape[1]\n",
        "  Y_pred = np.zeros((1, m))\n",
        "  A = sigmoid(np.dot(w.T, X) + b)\n",
        "  Y_pred = (A>=0.5).astype(int)\n",
        "  return Y_pred"
      ],
      "execution_count": null,
      "outputs": []
    },
    {
      "cell_type": "markdown",
      "metadata": {
        "id": "NYDmAGtwyln8",
        "colab_type": "text"
      },
      "source": [
        "Finally, we bring all the functions together in the following function model: the initialization, forward and backward propagation for multiple iterations, parameter update and finally prediction of the test set."
      ]
    },
    {
      "cell_type": "code",
      "metadata": {
        "id": "vJNrmtOnL4lu",
        "colab_type": "code",
        "colab": {}
      },
      "source": [
        "def model(X_train, y_train, X_test, y_test, num_iterations = 1000, learning_rate=0.01):\n",
        "  m = X_train.shape[1]\n",
        "  n = X_train.shape[0]\n",
        "  w,b = initialize(n)\n",
        "  param, grads, costs = optimization(w, b, X_train, y_train, num_iterations, learning_rate)\n",
        "  \n",
        "  \n",
        "  w = param['w'] \n",
        "  b = param['b']\n",
        "  Y_pred_train = predict(w, b, X_train)\n",
        "  Y_pred_test = predict(w, b, X_test)\n",
        "\n",
        "\n",
        "  print(\"train accuracy: {} %\".format(100 - np.mean(np.abs(Y_pred_train - y_train)) * 100))\n",
        "  print(\"test accuracy: {} %\".format(100 - np.mean(np.abs(Y_pred_test- y_test)) * 100))\n",
        " \n",
        "\n",
        "  d = {\"costs\": costs,\n",
        "         \"Y_prediction_test\": Y_pred_test, \n",
        "         \"Y_prediction_train\" : Y_pred_train, \n",
        "         \"w\" : w, \n",
        "         \"b\" : b,\n",
        "         \"learning_rate\" : learning_rate,\n",
        "         \"num_iterations\": num_iterations}\n",
        "    \n",
        "  return d\n"
      ],
      "execution_count": null,
      "outputs": []
    },
    {
      "cell_type": "code",
      "metadata": {
        "id": "1-FoGN9GNvlH",
        "colab_type": "code",
        "colab": {
          "base_uri": "https://localhost:8080/",
          "height": 561
        },
        "outputId": "858605bd-58e1-45c0-e67b-2e1fcfc41ab0"
      },
      "source": [
        "d = model(X_train_flat, y_train_flat, X_test_flat, y_test_flat, num_iterations = 3000, learning_rate = 0.08)\n"
      ],
      "execution_count": null,
      "outputs": [
        {
          "output_type": "stream",
          "text": [
            "Cost after iteration 0: 1.648333\n",
            "Cost after iteration 100: 1.167747\n",
            "Cost after iteration 200: 0.948385\n",
            "Cost after iteration 300: 0.820906\n",
            "Cost after iteration 400: 0.737058\n",
            "Cost after iteration 500: 0.677121\n",
            "Cost after iteration 600: 0.631950\n",
            "Cost after iteration 700: 0.596587\n",
            "Cost after iteration 800: 0.568033\n",
            "Cost after iteration 900: 0.544351\n",
            "Cost after iteration 1000: 0.524254\n",
            "Cost after iteration 1100: 0.506860\n",
            "Cost after iteration 1200: 0.491557\n",
            "Cost after iteration 1300: 0.477908\n",
            "Cost after iteration 1400: 0.465594\n",
            "Cost after iteration 1500: 0.454375\n",
            "Cost after iteration 1600: 0.444073\n",
            "Cost after iteration 1700: 0.434544\n",
            "Cost after iteration 1800: 0.425678\n",
            "Cost after iteration 1900: 0.417387\n",
            "Cost after iteration 2000: 0.409598\n",
            "Cost after iteration 2100: 0.402251\n",
            "Cost after iteration 2200: 0.395298\n",
            "Cost after iteration 2300: 0.388698\n",
            "Cost after iteration 2400: 0.382416\n",
            "Cost after iteration 2500: 0.376422\n",
            "Cost after iteration 2600: 0.370691\n",
            "Cost after iteration 2700: 0.365202\n",
            "Cost after iteration 2800: 0.359935\n",
            "Cost after iteration 2900: 0.354874\n",
            "train accuracy: 85.97359735973598 %\n",
            "test accuracy: 80.57692307692308 %\n"
          ],
          "name": "stdout"
        }
      ]
    },
    {
      "cell_type": "markdown",
      "metadata": {
        "id": "NL8QkveP2zPG",
        "colab_type": "text"
      },
      "source": [
        "Here, we performed 3000 iterations and as seen the training accuracy and test accuracy are 85 and 80 percent respectively. The difference in the training and test accuracy indicated the presence of some variance which we can reduce through having more data or regularization techniques. The idea is to reduce the overfitting. Similarly, only 85 percent training accuracy indicates the presence of avoidable bias. We can reduce it by have more layers in the network proving the system with more diversity."
      ]
    },
    {
      "cell_type": "code",
      "metadata": {
        "id": "2rBME6xGUQSG",
        "colab_type": "code",
        "colab": {
          "base_uri": "https://localhost:8080/",
          "height": 295
        },
        "outputId": "f9975b1a-9e0a-414a-e93d-dabfc8232a39"
      },
      "source": [
        "costs = np.squeeze(d['costs'])\n",
        "plt.plot(costs)\n",
        "plt.ylabel('cost')\n",
        "plt.xlabel('iterations (per hundreds)')\n",
        "plt.title(\"Learning rate =\" + str(d[\"learning_rate\"]))\n",
        "plt.show()"
      ],
      "execution_count": null,
      "outputs": [
        {
          "output_type": "display_data",
          "data": {
            "image/png": "[encoded data removed]",
            "text/plain": [
              "<Figure size 432x288 with 1 Axes>"
            ]
          },
          "metadata": {
            "tags": [],
            "needs_background": "light"
          }
        }
      ]
    },
    {
      "cell_type": "markdown",
      "metadata": {
        "id": "KC7fy4ZXLp8-",
        "colab_type": "text"
      },
      "source": [
        "Now, as a primitive hyperparameter choice setting, we check with different learing rates 0.1, 0.01 and 0.001. We can see that with higher learning rate both test and training error reduces. Likewise we can try with more number of iterations as well, although we need to be wary of the possible increase in bias."
      ]
    },
    {
      "cell_type": "code",
      "metadata": {
        "id": "hDOsgMMXUDAc",
        "colab_type": "code",
        "colab": {
          "base_uri": "https://localhost:8080/",
          "height": 1000
        },
        "outputId": "3ca810af-b66c-485a-fb43-fb8d36773300"
      },
      "source": [
        "learning_rates = [0.1, 0.01, 0.001]\n",
        "models = {}\n",
        "for i in learning_rates:\n",
        "    print (\"learning rate is: \" + str(i))\n",
        "    models[str(i)] = model(X_train_flat, y_train_flat, X_test_flat, y_test_flat, num_iterations = 3000, learning_rate = i)\n",
        "    print ('\\n' + \"-------------------------------------------------------\" + '\\n')\n",
        "\n",
        "for i in learning_rates:\n",
        "    plt.plot(np.squeeze(models[str(i)][\"costs\"]), label= str(models[str(i)][\"learning_rate\"]))\n",
        "\n",
        "plt.ylabel('cost')\n",
        "plt.xlabel('iterations')\n",
        "\n",
        "legend = plt.legend(loc='upper center', shadow=True)\n",
        "frame = legend.get_frame()\n",
        "frame.set_facecolor('0.90')\n",
        "plt.show()"
      ],
      "execution_count": null,
      "outputs": [
        {
          "output_type": "stream",
          "text": [
            "learning rate is: 0.1\n",
            "Cost after iteration 0: 1.479897\n",
            "Cost after iteration 100: 0.873465\n",
            "Cost after iteration 200: 0.746492\n",
            "Cost after iteration 300: 0.673882\n",
            "Cost after iteration 400: 0.623884\n",
            "Cost after iteration 500: 0.586335\n",
            "Cost after iteration 600: 0.556537\n",
            "Cost after iteration 700: 0.532001\n",
            "Cost after iteration 800: 0.511259\n",
            "Cost after iteration 900: 0.493371\n",
            "Cost after iteration 1000: 0.477701\n",
            "Cost after iteration 1100: 0.463794\n",
            "Cost after iteration 1200: 0.451317\n",
            "Cost after iteration 1300: 0.440018\n",
            "Cost after iteration 1400: 0.429701\n",
            "Cost after iteration 1500: 0.420216\n",
            "Cost after iteration 1600: 0.411441\n",
            "Cost after iteration 1700: 0.403278\n",
            "Cost after iteration 1800: 0.395648\n",
            "Cost after iteration 1900: 0.388486\n",
            "Cost after iteration 2000: 0.381737\n",
            "Cost after iteration 2100: 0.375356\n",
            "Cost after iteration 2200: 0.369304\n",
            "Cost after iteration 2300: 0.363549\n",
            "Cost after iteration 2400: 0.358062\n",
            "Cost after iteration 2500: 0.352819\n",
            "Cost after iteration 2600: 0.347798\n",
            "Cost after iteration 2700: 0.342982\n",
            "Cost after iteration 2800: 0.338354\n",
            "Cost after iteration 2900: 0.333899\n",
            "train accuracy: 87.45874587458746 %\n",
            "test accuracy: 85.1923076923077 %\n",
            "\n",
            "-------------------------------------------------------\n",
            "\n",
            "learning rate is: 0.01\n",
            "Cost after iteration 0: 1.413010\n",
            "Cost after iteration 100: 1.289689\n",
            "Cost after iteration 200: 1.188592\n",
            "Cost after iteration 300: 1.105873\n",
            "Cost after iteration 400: 1.037992\n",
            "Cost after iteration 500: 0.981931\n",
            "Cost after iteration 600: 0.935229\n",
            "Cost after iteration 700: 0.895937\n",
            "Cost after iteration 800: 0.862540\n",
            "Cost after iteration 900: 0.833869\n",
            "Cost after iteration 1000: 0.809021\n",
            "Cost after iteration 1100: 0.787298\n",
            "Cost after iteration 1200: 0.768154\n",
            "Cost after iteration 1300: 0.751160\n",
            "Cost after iteration 1400: 0.735972\n",
            "Cost after iteration 1500: 0.722314\n",
            "Cost after iteration 1600: 0.709963\n",
            "Cost after iteration 1700: 0.698733\n",
            "Cost after iteration 1800: 0.688474\n",
            "Cost after iteration 1900: 0.679056\n",
            "Cost after iteration 2000: 0.670375\n",
            "Cost after iteration 2100: 0.662339\n",
            "Cost after iteration 2200: 0.654872\n",
            "Cost after iteration 2300: 0.647909\n",
            "Cost after iteration 2400: 0.641392\n",
            "Cost after iteration 2500: 0.635274\n",
            "Cost after iteration 2600: 0.629513\n",
            "Cost after iteration 2700: 0.624072\n",
            "Cost after iteration 2800: 0.618919\n",
            "Cost after iteration 2900: 0.614027\n",
            "train accuracy: 73.67986798679868 %\n",
            "test accuracy: 73.26923076923077 %\n",
            "\n",
            "-------------------------------------------------------\n",
            "\n",
            "learning rate is: 0.001\n",
            "Cost after iteration 0: 1.301218\n",
            "Cost after iteration 100: 1.283346\n",
            "Cost after iteration 200: 1.266758\n",
            "Cost after iteration 300: 1.251349\n",
            "Cost after iteration 400: 1.237018\n",
            "Cost after iteration 500: 1.223673\n",
            "Cost after iteration 600: 1.211223\n",
            "Cost after iteration 700: 1.199586\n",
            "Cost after iteration 800: 1.188686\n",
            "Cost after iteration 900: 1.178451\n",
            "Cost after iteration 1000: 1.168816\n",
            "Cost after iteration 1100: 1.159723\n",
            "Cost after iteration 1200: 1.151117\n",
            "Cost after iteration 1300: 1.142949\n",
            "Cost after iteration 1400: 1.135176\n",
            "Cost after iteration 1500: 1.127758\n",
            "Cost after iteration 1600: 1.120660\n",
            "Cost after iteration 1700: 1.113851\n",
            "Cost after iteration 1800: 1.107301\n",
            "Cost after iteration 1900: 1.100986\n",
            "Cost after iteration 2000: 1.094883\n",
            "Cost after iteration 2100: 1.088973\n",
            "Cost after iteration 2200: 1.083238\n",
            "Cost after iteration 2300: 1.077663\n",
            "Cost after iteration 2400: 1.072234\n",
            "Cost after iteration 2500: 1.066938\n",
            "Cost after iteration 2600: 1.061765\n",
            "Cost after iteration 2700: 1.056706\n",
            "Cost after iteration 2800: 1.051751\n",
            "Cost after iteration 2900: 1.046895\n",
            "train accuracy: 57.34323432343234 %\n",
            "test accuracy: 56.730769230769226 %\n",
            "\n",
            "-------------------------------------------------------\n",
            "\n"
          ],
          "name": "stdout"
        },
        {
          "output_type": "display_data",
          "data": {
            "image/png": "[encoded data removed]",
            "text/plain": [
              "<Figure size 432x288 with 1 Axes>"
            ]
          },
          "metadata": {
            "tags": [],
            "needs_background": "light"
          }
        }
      ]
    },
    {
      "cell_type": "markdown",
      "metadata": {
        "id": "PdLfOTfUKMnJ",
        "colab_type": "text"
      },
      "source": [
        "## **Deep Neural Networks:**"
      ]
    },
    {
      "cell_type": "markdown",
      "metadata": {
        "id": "h49e5aPTqhxL",
        "colab_type": "text"
      },
      "source": [
        "Now, we will look into a deep neural network with many layers and hidden neurons. We will consider the number of layers and the neurons to be changeable. Except for the final layer, the neurons will have 'Relu' activation. The final layer will have one neuron with sigmoid activation."
      ]
    },
    {
      "cell_type": "markdown",
      "metadata": {
        "id": "6Jdi9jLlrC6R",
        "colab_type": "text"
      },
      "source": [
        "First to initialize all the neurons, we consider the Xavier initialization. This initialization is weighted initialization normalized by the total number of neurons in the current and previous layer. This minimizes the problem faced by gradient descent algorithms of exploding and vanishing gradients, especially while considering a deep network."
      ]
    },
    {
      "cell_type": "code",
      "metadata": {
        "id": "o-6tpLbfhFwI",
        "colab_type": "code",
        "colab": {}
      },
      "source": [
        "def initialize_deep(layer_dims):\n",
        "  parameters = {}\n",
        "  L = len(layer_dims)\n",
        "  for l in range(1, L):\n",
        "    parameters['W' + str(l)] = np.random.randn(layer_dims[l], layer_dims[l-1]) * np.sqrt(2/(layer_dims[l] + layer_dims[l-1]))\n",
        "    parameters['b' + str(l)] = np.zeros((layer_dims[l],1))\n",
        "  return parameters"
      ],
      "execution_count": null,
      "outputs": []
    },
    {
      "cell_type": "markdown",
      "metadata": {
        "id": "-aAFdw7arh-H",
        "colab_type": "text"
      },
      "source": [
        "Unlike the previous case, here we separate the functions for forward propagation, cost computation and backward propagation.\n",
        "\n",
        "The following function forward_propagate take the activation from previous layer (or input in the case of Layer 2) and outputs the activation depending on the type of function defined. Here, we also need cache of Z, A_prev, W and b for the backward propagation."
      ]
    },
    {
      "cell_type": "code",
      "metadata": {
        "id": "QKN-hhn8V6Y1",
        "colab_type": "code",
        "colab": {}
      },
      "source": [
        "def forward_propagate(W, b, A_prev, activation):\n",
        "  Z = np.dot(W, A_prev) + b\n",
        "  if activation == 'sigmoid':\n",
        "    A = sigmoid(Z)\n",
        "  elif activation == 'relu':\n",
        "    A = np.maximum(Z, 0) \n",
        "  cache = Z, A_prev, W, b\n",
        "  \n",
        "  return A, cache"
      ],
      "execution_count": null,
      "outputs": []
    },
    {
      "cell_type": "markdown",
      "metadata": {
        "id": "Qh8PQ4zWsKlN",
        "colab_type": "text"
      },
      "source": [
        "After passing through all the layers, we compute the cost, once again defined by the binary crossentropy function."
      ]
    },
    {
      "cell_type": "code",
      "metadata": {
        "id": "1CCxzqUYfeFz",
        "colab_type": "code",
        "colab": {}
      },
      "source": [
        "def compute_cost(AL, y):\n",
        "  m = y.shape[1]\n",
        "  logprobs = np.multiply(np.log(AL),y) + np.multiply(np.log(1-AL),(1-y))\n",
        "  cost = - np.sum(logprobs) / m      \n",
        "  cost = np.squeeze(cost)\n",
        "  return cost\n"
      ],
      "execution_count": null,
      "outputs": []
    },
    {
      "cell_type": "markdown",
      "metadata": {
        "id": "HN_uFiUesshM",
        "colab_type": "text"
      },
      "source": [
        "Then the backpropagation step. With the current derivative with respect to the activation A (dA), we need to provide with the previous dA. This derivative of course depends on the activation function as well. Likewise after this computation, at every layer, we also compute the dW and db for that layer inorder to update the parameters. "
      ]
    },
    {
      "cell_type": "code",
      "metadata": {
        "id": "JsIy8AFRdusq",
        "colab_type": "code",
        "colab": {}
      },
      "source": [
        "def backpropagate(dA, cache, activation):\n",
        "  Z, A, W, b = cache\n",
        "  m = A.shape[1]\n",
        "  \n",
        "  if activation == \"sigmoid\":\n",
        "    dZ = dA * (sigmoid(Z)*(1-sigmoid(Z)))\n",
        "  else:\n",
        "    dZ = np.array(dA, copy=True)\n",
        "    dZ[Z<=0] = 0\n",
        "  \n",
        "  dA_prev = np.dot(W.T, dZ)\n",
        "  dW = np.dot(dZ, A.T) * 1. / m \n",
        "  db = 1. / m * np.sum(dZ, axis=1, keepdims=True)\n",
        "\n",
        "  return dA_prev, dW, db"
      ],
      "execution_count": null,
      "outputs": []
    },
    {
      "cell_type": "markdown",
      "metadata": {
        "id": "_W52crRbtMON",
        "colab_type": "text"
      },
      "source": [
        "Combining the forward propagation together, here, we have the forward propagation through all the layers. The first loop passes through relu activation L-1 times and as stated earlier, the final layer is passed through sigmoid activation. All the caches are present in the list caches for the backpropagation step. "
      ]
    },
    {
      "cell_type": "code",
      "metadata": {
        "id": "MNftfd-ei5Sj",
        "colab_type": "code",
        "colab": {}
      },
      "source": [
        "def multilayer_propagate(X, parameters):\n",
        "  caches = []\n",
        "  A = X\n",
        "  L = len(parameters) // 2\n",
        "\n",
        "  for l in range(1, L):\n",
        "      A_prev = A \n",
        "      A, cache = forward_propagate(parameters['W' + str(l)], parameters['b' + str(l)], A_prev, 'relu')\n",
        "      caches.append(cache)\n",
        "  \n",
        "  AL, cache = forward_propagate(parameters['W' + str(L)], parameters['b' + str(L)], A, 'sigmoid')\n",
        "  caches.append(cache)\n",
        "\n",
        "  return AL, caches"
      ],
      "execution_count": null,
      "outputs": []
    },
    {
      "cell_type": "markdown",
      "metadata": {
        "id": "To1oiDI-tu0h",
        "colab_type": "text"
      },
      "source": [
        "After the forward propagation, we now have a function to compute the backpropagation step through all the layers. We start with the L-th layer with the sigmoid activation and then go through L-1 layers in the reversed manner, each time calculating dA_prev, dW and db."
      ]
    },
    {
      "cell_type": "code",
      "metadata": {
        "id": "7F6cZd_ohBUJ",
        "colab_type": "code",
        "colab": {}
      },
      "source": [
        "def multilayer_backpropagate(AL, y, caches):\n",
        "    grads = {}\n",
        "    L = len(caches)\n",
        "    m = AL.shape[1]\n",
        "    y = y.reshape(AL.shape)\n",
        "\n",
        "    dAL = - (np.divide(y, AL) - np.divide(1 - y, 1 - AL))\n",
        "    current_cache = caches[-1]\n",
        "    grads[\"dA\" + str(L)], grads[\"dW\" + str(L)], grads[\"db\" + str(L)] = backpropagate(dAL, current_cache, activation = \"sigmoid\")\n",
        "\n",
        "    for l in reversed(range(L-1)):\n",
        "      current_cache = caches[l]\n",
        "      dA_prev_temp, dW_temp, db_temp = backpropagate(grads[\"dA\" + str(l + 2)], current_cache, activation = \"relu\")\n",
        "      grads[\"dA\" + str(l + 1)] = dA_prev_temp\n",
        "      grads[\"dW\" + str(l + 1)] = dW_temp\n",
        "      grads[\"db\" + str(l + 1)] = db_temp\n",
        "\n",
        "    return grads\n"
      ],
      "execution_count": null,
      "outputs": []
    },
    {
      "cell_type": "markdown",
      "metadata": {
        "id": "hg-lObR7uBf8",
        "colab_type": "text"
      },
      "source": [
        "After each iteration, we need to update the weights based on the derivative as a part of the gradient descent algorithm like in the previous scenario."
      ]
    },
    {
      "cell_type": "code",
      "metadata": {
        "id": "N7Akyr-xiq2K",
        "colab_type": "code",
        "colab": {}
      },
      "source": [
        "def gradient_descent(parameters, grads, learning_rate):\n",
        "\n",
        "  L = len(parameters) // 2\n",
        "  for l in range(1,L+1):\n",
        "        parameters[\"W\" + str(l)] -= learning_rate * grads[\"dW\" + str(l)] \n",
        "        parameters[\"b\" + str(l)] -= learning_rate * grads[\"db\" + str(l)] \n",
        "  return parameters"
      ],
      "execution_count": null,
      "outputs": []
    },
    {
      "cell_type": "markdown",
      "metadata": {
        "id": "-NWBPRaCujWB",
        "colab_type": "text"
      },
      "source": [
        "We create global variables layers_dims to represent the total number of layers and the neurons in each layer. In the following example we consider 5 layers with the first layer being the input layer."
      ]
    },
    {
      "cell_type": "code",
      "metadata": {
        "id": "FF8R7N994EuS",
        "colab_type": "code",
        "colab": {}
      },
      "source": [
        "layers_dims = [X_train_flat.shape[0], 5, 1]"
      ],
      "execution_count": null,
      "outputs": []
    },
    {
      "cell_type": "code",
      "metadata": {
        "id": "ZdnpcfCRjDJr",
        "colab_type": "code",
        "colab": {}
      },
      "source": [
        "def multilayer_model(X, y, layers_dims, learning_rate = .08, num_iterations = 3000):\n",
        "    costs = []                        \n",
        "    parameters = initialize_deep(layers_dims)\n",
        "    \n",
        "    for i in range(0, num_iterations):\n",
        "      AL, caches = multilayer_propagate(X, parameters)\n",
        "      cost = compute_cost(AL, y)\n",
        "      grads = multilayer_backpropagate(AL, y, caches)\n",
        "      parameters = gradient_descent(parameters, grads, learning_rate)\n",
        "      if i % 100 == 0:\n",
        "        print (\"Cost after iteration %i: %f\" %(i, cost))\n",
        "        costs.append(cost)\n",
        "            \n",
        "    plt.plot(np.squeeze(costs))\n",
        "    plt.ylabel('cost')\n",
        "    plt.xlabel('iterations (per tens)')\n",
        "    plt.title(\"Learning rate =\" + str(learning_rate))\n",
        "    plt.show()\n",
        "\n",
        "    return parameters"
      ],
      "execution_count": null,
      "outputs": []
    },
    {
      "cell_type": "code",
      "metadata": {
        "id": "H09ob1GjkMiV",
        "colab_type": "code",
        "colab": {
          "base_uri": "https://localhost:8080/",
          "height": 805
        },
        "outputId": "4b648de8-6f0c-4cb4-f453-1095fa8ce3e2"
      },
      "source": [
        "parameters = multilayer_model(X_train_flat, y_train_flat, layers_dims, learning_rate = .08, num_iterations = 3000)\n"
      ],
      "execution_count": null,
      "outputs": [
        {
          "output_type": "stream",
          "text": [
            "Cost after iteration 0: 0.694106\n",
            "Cost after iteration 100: 0.416637\n",
            "Cost after iteration 200: 0.336061\n",
            "Cost after iteration 300: 0.292344\n",
            "Cost after iteration 400: 0.259212\n",
            "Cost after iteration 500: 0.231365\n",
            "Cost after iteration 600: 0.206932\n",
            "Cost after iteration 700: 0.185088\n",
            "Cost after iteration 800: 0.165428\n",
            "Cost after iteration 900: 0.147744\n",
            "Cost after iteration 1000: 0.131904\n",
            "Cost after iteration 1100: 0.117763\n",
            "Cost after iteration 1200: 0.105173\n",
            "Cost after iteration 1300: 0.094024\n",
            "Cost after iteration 1400: 0.084183\n",
            "Cost after iteration 1500: 0.075510\n",
            "Cost after iteration 1600: 0.067881\n",
            "Cost after iteration 1700: 0.061176\n",
            "Cost after iteration 1800: 0.055290\n",
            "Cost after iteration 1900: 0.050122\n",
            "Cost after iteration 2000: 0.045578\n",
            "Cost after iteration 2100: 0.041578\n",
            "Cost after iteration 2200: 0.038052\n",
            "Cost after iteration 2300: 0.034936\n",
            "Cost after iteration 2400: 0.032177\n",
            "Cost after iteration 2500: 0.029727\n",
            "Cost after iteration 2600: 0.027546\n",
            "Cost after iteration 2700: 0.025597\n",
            "Cost after iteration 2800: 0.023852\n",
            "Cost after iteration 2900: 0.022284\n"
          ],
          "name": "stdout"
        },
        {
          "output_type": "display_data",
          "data": {
            "image/png": "[encoded data removed]",
            "text/plain": [
              "<Figure size 432x288 with 1 Axes>"
            ]
          },
          "metadata": {
            "tags": [],
            "needs_background": "light"
          }
        }
      ]
    },
    {
      "cell_type": "markdown",
      "metadata": {
        "id": "RiktV1pTwE4Q",
        "colab_type": "text"
      },
      "source": [
        "Now in order to calculate the accuracy, we have the following function predict_deep. We take the parameters resulting from the learning process and run training and test sets through it in order to gather the accuracy."
      ]
    },
    {
      "cell_type": "code",
      "metadata": {
        "id": "LgVrQ5gry2L-",
        "colab_type": "code",
        "colab": {}
      },
      "source": [
        "def predict_deep(X, y, parameters):\n",
        "  A = X\n",
        "  L = len(parameters) // 2\n",
        "  for l in range(1, L):\n",
        "      A_prev = A \n",
        "      A, _ = forward_propagate(parameters['W' + str(l)], parameters['b' + str(l)], A_prev, 'relu')\n",
        "  \n",
        "  AL, _ = forward_propagate(parameters['W' + str(L)], parameters['b' + str(L)], A, 'sigmoid')\n",
        "  Y_pred = (AL>=0.5).astype(int)\n",
        "\n",
        "  return Y_pred"
      ],
      "execution_count": null,
      "outputs": []
    },
    {
      "cell_type": "code",
      "metadata": {
        "id": "WIW--Xbem6Ma",
        "colab_type": "code",
        "colab": {
          "base_uri": "https://localhost:8080/",
          "height": 51
        },
        "outputId": "2614afcf-411e-437b-adc5-d7d57edf62ee"
      },
      "source": [
        "  Y_pred_train_deep = predict_deep(X_train_flat, y_train_flat, parameters)\n",
        "  Y_pred_test_deep = predict_deep(X_test_flat, y_test_flat, parameters)\n",
        "\n",
        "  print(\"train accuracy: {} %\".format(100 - np.mean(np.abs(Y_pred_train_deep - y_train_flat)) * 100))\n",
        "  print(\"test accuracy: {} %\".format(100 - np.mean(np.abs(Y_pred_test_deep- y_test_flat)) * 100))"
      ],
      "execution_count": null,
      "outputs": [
        {
          "output_type": "stream",
          "text": [
            "train accuracy: 100.0 %\n",
            "test accuracy: 89.8076923076923 %\n"
          ],
          "name": "stdout"
        }
      ]
    },
    {
      "cell_type": "markdown",
      "metadata": {
        "id": "9GH4OWeIwdsh",
        "colab_type": "text"
      },
      "source": [
        "As you can see, here the training accuracy is 100% whereas the test accuracy is 89 percent. This shows that the model is overfitting the data, so we need to reduce the variance from the data. We will see couple of techniques with which we can do this. We first perform dropout regularization and then L2 regularization."
      ]
    },
    {
      "cell_type": "markdown",
      "metadata": {
        "id": "mMI05XEcBha0",
        "colab_type": "text"
      },
      "source": [
        "## **Dropout Regularization**"
      ]
    },
    {
      "cell_type": "markdown",
      "metadata": {
        "id": "-_uYdEWYw7uR",
        "colab_type": "text"
      },
      "source": [
        "The idea of dropout regularization is that we randomly drop few neurons in each layer (probabilistically), hence reducing the tendency to overfit the data. We define this probability for a neuron to stay in each layer in the list keep_prob. \n",
        "\n",
        "For each iteration, the dropped out neurons are different, obviously."
      ]
    },
    {
      "cell_type": "code",
      "metadata": {
        "id": "My4CekD4xl8h",
        "colab_type": "code",
        "colab": {}
      },
      "source": [
        "keep_prob = [.5, .5, 1]"
      ],
      "execution_count": null,
      "outputs": []
    },
    {
      "cell_type": "markdown",
      "metadata": {
        "id": "-TxrLpnHyNaP",
        "colab_type": "text"
      },
      "source": [
        "In the following function of forward propagation for a particular layer, we create a mask of 1s and 0s according to the mentioned probabilities. This mask zeros the activation from the dropped out neuron."
      ]
    },
    {
      "cell_type": "code",
      "metadata": {
        "id": "0JvVFY8_3h2D",
        "colab_type": "code",
        "colab": {}
      },
      "source": [
        "def forward_propagate_dropout(W, b, A_prev, activation, keep_prob):\n",
        "  D = np.random.rand(A_prev.shape[0], A_prev.shape[1]) <= keep_prob\n",
        "  A_prev = A_prev*D\n",
        "  A_prev = A_prev/keep_prob\n",
        "  Z = np.dot(W, A_prev) + b\n",
        "  if activation == 'sigmoid':\n",
        "    A = sigmoid(Z)\n",
        "  elif activation == 'relu':\n",
        "    A = np.maximum(Z, 0) \n",
        "  cache = Z, A_prev, W, b\n",
        "  \n",
        "  return A, cache"
      ],
      "execution_count": null,
      "outputs": []
    },
    {
      "cell_type": "code",
      "metadata": {
        "id": "qJCDy2-2sWY2",
        "colab_type": "code",
        "colab": {}
      },
      "source": [
        "def multilayer_propagate_dropout(X, parameters, keep_prob):\n",
        "  caches = []\n",
        "  A = X\n",
        "  L = len(parameters) // 2\n",
        "\n",
        "  for l in range(1, L):\n",
        "      A_prev = A \n",
        "      A, cache = forward_propagate_dropout(parameters['W' + str(l)], parameters['b' + str(l)], A_prev, 'relu', keep_prob[l])\n",
        "      caches.append(cache)\n",
        "  \n",
        "  AL, cache = forward_propagate(parameters['W' + str(L)], parameters['b' + str(L)], A, 'sigmoid')\n",
        "  caches.append(cache)\n",
        "\n",
        "  return AL, caches"
      ],
      "execution_count": null,
      "outputs": []
    },
    {
      "cell_type": "code",
      "metadata": {
        "id": "35bYmSOD0JlY",
        "colab_type": "code",
        "colab": {}
      },
      "source": [
        "def multilayer_model_dropout(X, y, layers_dims, keep_prob, learning_rate = .1, num_iterations = 3000):\n",
        "    costs = []                        \n",
        "    parameters = initialize_deep(layers_dims)\n",
        "    \n",
        "    for i in range(0, num_iterations):\n",
        "      AL, caches = multilayer_propagate_dropout(X, parameters, keep_prob)\n",
        "      cost = compute_cost(AL, y)\n",
        "      grads = multilayer_backpropagate(AL, y, caches)\n",
        "      parameters = gradient_descent(parameters, grads, learning_rate)\n",
        "      if i % 100 == 0:\n",
        "        print (\"Cost after iteration %i: %f\" %(i, cost))\n",
        "        costs.append(cost)\n",
        "            \n",
        "    plt.plot(np.squeeze(costs))\n",
        "    plt.ylabel('cost')\n",
        "    plt.xlabel('iterations (per tens)')\n",
        "    plt.title(\"Learning rate =\" + str(learning_rate))\n",
        "    plt.show()\n",
        "\n",
        "    return parameters"
      ],
      "execution_count": null,
      "outputs": []
    },
    {
      "cell_type": "code",
      "metadata": {
        "id": "8R0YiW1r01KU",
        "colab_type": "code",
        "colab": {
          "base_uri": "https://localhost:8080/",
          "height": 975
        },
        "outputId": "b0e59a38-bd25-466a-8641-837f8e8a7321"
      },
      "source": [
        "parameters_dropout = multilayer_model_dropout(X_train_flat, y_train_flat, layers_dims, keep_prob, learning_rate = .08, num_iterations = 4000)"
      ],
      "execution_count": null,
      "outputs": [
        {
          "output_type": "stream",
          "text": [
            "Cost after iteration 0: 0.701595\n",
            "Cost after iteration 100: 0.512466\n",
            "Cost after iteration 200: 0.482611\n",
            "Cost after iteration 300: 0.431478\n",
            "Cost after iteration 400: 0.406112\n",
            "Cost after iteration 500: 0.370961\n",
            "Cost after iteration 600: 0.342294\n",
            "Cost after iteration 700: 0.341484\n",
            "Cost after iteration 800: 0.326051\n",
            "Cost after iteration 900: 0.288006\n",
            "Cost after iteration 1000: 0.279980\n",
            "Cost after iteration 1100: 0.282799\n",
            "Cost after iteration 1200: 0.259769\n",
            "Cost after iteration 1300: 0.246019\n",
            "Cost after iteration 1400: 0.246960\n",
            "Cost after iteration 1500: 0.245484\n",
            "Cost after iteration 1600: 0.210063\n",
            "Cost after iteration 1700: 0.215678\n",
            "Cost after iteration 1800: 0.217417\n",
            "Cost after iteration 1900: 0.181492\n",
            "Cost after iteration 2000: 0.188799\n",
            "Cost after iteration 2100: 0.183390\n",
            "Cost after iteration 2200: 0.184585\n",
            "Cost after iteration 2300: 0.177489\n",
            "Cost after iteration 2400: 0.192915\n",
            "Cost after iteration 2500: 0.162572\n",
            "Cost after iteration 2600: 0.148734\n",
            "Cost after iteration 2700: 0.162780\n",
            "Cost after iteration 2800: 0.167173\n",
            "Cost after iteration 2900: 0.164078\n",
            "Cost after iteration 3000: 0.150552\n",
            "Cost after iteration 3100: 0.174368\n",
            "Cost after iteration 3200: 0.155176\n",
            "Cost after iteration 3300: 0.134046\n",
            "Cost after iteration 3400: 0.163796\n",
            "Cost after iteration 3500: 0.156552\n",
            "Cost after iteration 3600: 0.154321\n",
            "Cost after iteration 3700: 0.139304\n",
            "Cost after iteration 3800: 0.150752\n",
            "Cost after iteration 3900: 0.143004\n"
          ],
          "name": "stdout"
        },
        {
          "output_type": "display_data",
          "data": {
            "image/png": "[encoded data removed]",
            "text/plain": [
              "<Figure size 432x288 with 1 Axes>"
            ]
          },
          "metadata": {
            "tags": [],
            "needs_background": "light"
          }
        }
      ]
    },
    {
      "cell_type": "code",
      "metadata": {
        "id": "U0SqHtDq7kmE",
        "colab_type": "code",
        "colab": {
          "base_uri": "https://localhost:8080/",
          "height": 51
        },
        "outputId": "4c29b15d-ca98-4316-e064-d40545047289"
      },
      "source": [
        "  Y_pred_train_deep = predict_deep(X_train_flat, y_train_flat, parameters_dropout)\n",
        "  Y_pred_test_deep = predict_deep(X_test_flat, y_test_flat, parameters_dropout)\n",
        "\n",
        "  print(\"train accuracy: {} %\".format(100 - np.mean(np.abs(Y_pred_train_deep - y_train_flat)) * 100))\n",
        "  print(\"test accuracy: {} %\".format(100 - np.mean(np.abs(Y_pred_test_deep- y_test_flat)) * 100))"
      ],
      "execution_count": null,
      "outputs": [
        {
          "output_type": "stream",
          "text": [
            "train accuracy: 100.0 %\n",
            "test accuracy: 90.1923076923077 %\n"
          ],
          "name": "stdout"
        }
      ]
    },
    {
      "cell_type": "markdown",
      "metadata": {
        "id": "wdbrEoUmKH9Q",
        "colab_type": "text"
      },
      "source": [
        "After dropout we see that the test accuracy increases to 90%."
      ]
    },
    {
      "cell_type": "markdown",
      "metadata": {
        "id": "R7uk5jjNHiNN",
        "colab_type": "text"
      },
      "source": [
        "### **L2 Regularization**"
      ]
    },
    {
      "cell_type": "code",
      "metadata": {
        "id": "vn6A4xF83fY_",
        "colab_type": "code",
        "colab": {}
      },
      "source": [
        "def compute_cost_L2(AL, y, layers_dims, lambd):\n",
        "  m = y.shape[1]\n",
        "  L = len(layers_dims)\n",
        "  logprobs = np.multiply(np.log(AL),y) + np.multiply(np.log(1-AL),1-y)\n",
        "  regularization = 0\n",
        "  for l in range(1, L):\n",
        "    regularization += np.linalg.norm(parameters['W' + str(l)], ord = 'fro') \n",
        "  regularization*=lambd/(2*m)\n",
        "  cost = - np.sum(logprobs) / m      \n",
        "  cost = np.squeeze(cost)+regularization\n",
        "  return cost\n"
      ],
      "execution_count": null,
      "outputs": []
    },
    {
      "cell_type": "code",
      "metadata": {
        "id": "_MtZvLdhLQB2",
        "colab_type": "code",
        "colab": {}
      },
      "source": [
        "def gradient_descent_L2(parameters, grads, learning_rate, lambd):\n",
        "  m = parameters[\"W1\"].shape[1]\n",
        "  L = len(parameters) // 2\n",
        "  for l in range(1,L+1):\n",
        "        parameters[\"W\" + str(l)] -= learning_rate * (grads[\"dW\" + str(l)] + lambd/(2*m)* parameters[\"W\" + str(l)])\n",
        "        parameters[\"b\" + str(l)] -= learning_rate * grads[\"db\" + str(l)] \n",
        "  return parameters"
      ],
      "execution_count": null,
      "outputs": []
    },
    {
      "cell_type": "code",
      "metadata": {
        "id": "NGVjVgflKe-4",
        "colab_type": "code",
        "colab": {}
      },
      "source": [
        "def multilayer_model_L2(X, y, layers_dims, keep_prob, learning_rate = .1, num_iterations = 3000, lambd = .5):\n",
        "    costs = []                        \n",
        "    parameters = initialize_deep(layers_dims)\n",
        "    \n",
        "    for i in range(0, num_iterations):\n",
        "      AL, caches = multilayer_propagate(X, parameters)\n",
        "      cost = compute_cost_L2(AL, y, layers_dims, lambd)\n",
        "      grads = multilayer_backpropagate(AL, y, caches)\n",
        "      parameters = gradient_descent_L2(parameters, grads, learning_rate, lambd)\n",
        "      if i % 100 == 0:\n",
        "        print (\"Cost after iteration %i: %f\" %(i, cost))\n",
        "        costs.append(cost)\n",
        "            \n",
        "    plt.plot(np.squeeze(costs))\n",
        "    plt.ylabel('cost')\n",
        "    plt.xlabel('iterations (per tens)')\n",
        "    plt.title(\"Learning rate =\" + str(learning_rate))\n",
        "    plt.show()\n",
        "\n",
        "    return parameters"
      ],
      "execution_count": null,
      "outputs": []
    },
    {
      "cell_type": "code",
      "metadata": {
        "id": "elUXAFniKz7L",
        "colab_type": "code",
        "colab": {
          "base_uri": "https://localhost:8080/",
          "height": 805
        },
        "outputId": "5fa87def-db0b-4380-ccd5-7a6b4941b21e"
      },
      "source": [
        "parameters_L2 = multilayer_model_L2(X_train_flat, y_train_flat, layers_dims, keep_prob, learning_rate = .08, num_iterations = 3000, lambd = .5)"
      ],
      "execution_count": null,
      "outputs": [
        {
          "output_type": "stream",
          "text": [
            "Cost after iteration 0: 0.697443\n",
            "Cost after iteration 100: 0.434456\n",
            "Cost after iteration 200: 0.340220\n",
            "Cost after iteration 300: 0.296630\n",
            "Cost after iteration 400: 0.264868\n",
            "Cost after iteration 500: 0.238386\n",
            "Cost after iteration 600: 0.215244\n",
            "Cost after iteration 700: 0.194515\n",
            "Cost after iteration 800: 0.175752\n",
            "Cost after iteration 900: 0.158772\n",
            "Cost after iteration 1000: 0.143470\n",
            "Cost after iteration 1100: 0.129758\n",
            "Cost after iteration 1200: 0.117471\n",
            "Cost after iteration 1300: 0.106446\n",
            "Cost after iteration 1400: 0.096576\n",
            "Cost after iteration 1500: 0.087755\n",
            "Cost after iteration 1600: 0.079886\n",
            "Cost after iteration 1700: 0.072855\n",
            "Cost after iteration 1800: 0.066566\n",
            "Cost after iteration 1900: 0.060941\n",
            "Cost after iteration 2000: 0.055937\n",
            "Cost after iteration 2100: 0.051475\n",
            "Cost after iteration 2200: 0.047491\n",
            "Cost after iteration 2300: 0.043935\n",
            "Cost after iteration 2400: 0.040742\n",
            "Cost after iteration 2500: 0.037940\n",
            "Cost after iteration 2600: 0.035481\n",
            "Cost after iteration 2700: 0.033287\n",
            "Cost after iteration 2800: 0.031325\n",
            "Cost after iteration 2900: 0.029562\n"
          ],
          "name": "stdout"
        },
        {
          "output_type": "display_data",
          "data": {
            "image/png": "[encoded data removed]",
            "text/plain": [
              "<Figure size 432x288 with 1 Axes>"
            ]
          },
          "metadata": {
            "tags": [],
            "needs_background": "light"
          }
        }
      ]
    },
    {
      "cell_type": "code",
      "metadata": {
        "id": "2tNZk5KDLfM1",
        "colab_type": "code",
        "colab": {
          "base_uri": "https://localhost:8080/",
          "height": 51
        },
        "outputId": "483fb876-ee1d-4807-e722-c32572b11743"
      },
      "source": [
        "  Y_pred_train_deep = predict_deep(X_train_flat, y_train_flat, parameters_L2)\n",
        "  Y_pred_test_deep = predict_deep(X_test_flat, y_test_flat, parameters_L2)\n",
        "\n",
        "  print(\"train accuracy: {} %\".format(100 - np.mean(np.abs(Y_pred_train_deep - y_train_flat)) * 100))\n",
        "  print(\"test accuracy: {} %\".format(100 - np.mean(np.abs(Y_pred_test_deep- y_test_flat)) * 100))"
      ],
      "execution_count": null,
      "outputs": [
        {
          "output_type": "stream",
          "text": [
            "train accuracy: 99.83498349834983 %\n",
            "test accuracy: 89.61538461538461 %\n"
          ],
          "name": "stdout"
        }
      ]
    },
    {
      "cell_type": "markdown",
      "metadata": {
        "id": "E7YbkXkiLNcA",
        "colab_type": "text"
      },
      "source": [
        "## **Dropout + L2 regularization:**"
      ]
    },
    {
      "cell_type": "code",
      "metadata": {
        "id": "xEx_Oc56K7lQ",
        "colab_type": "code",
        "colab": {}
      },
      "source": [
        "def multilayer_model_regularized(X, y, layers_dims, keep_prob, learning_rate = .1, num_iterations = 3000, lambd = .5):\n",
        "    costs = []                        \n",
        "    parameters = initialize_deep(layers_dims)\n",
        "    \n",
        "    for i in range(0, num_iterations):\n",
        "      AL, caches = multilayer_propagate_dropout(X, parameters, keep_prob)\n",
        "      cost = compute_cost_L2(AL, y, layers_dims, lambd)\n",
        "      grads = multilayer_backpropagate(AL, y, caches)\n",
        "      parameters = gradient_descent_L2(parameters, grads, learning_rate, lambd)\n",
        "      if i % 100 == 0:\n",
        "        print (\"Cost after iteration %i: %f\" %(i, cost))\n",
        "        costs.append(cost)\n",
        "            \n",
        "    plt.plot(np.squeeze(costs))\n",
        "    plt.ylabel('cost')\n",
        "    plt.xlabel('iterations (per tens)')\n",
        "    plt.title(\"Learning rate =\" + str(learning_rate))\n",
        "    plt.show()\n",
        "\n",
        "    return parameters"
      ],
      "execution_count": null,
      "outputs": []
    },
    {
      "cell_type": "code",
      "metadata": {
        "id": "G0qQaCPhLvNd",
        "colab_type": "code",
        "colab": {
          "base_uri": "https://localhost:8080/",
          "height": 805
        },
        "outputId": "6992757d-39f9-4a37-8c13-c1e5097c7a9a"
      },
      "source": [
        "parameters_regularized = multilayer_model_regularized(X_train_flat, y_train_flat, layers_dims, keep_prob, learning_rate = .08, num_iterations = 3000, lambd = .5)"
      ],
      "execution_count": null,
      "outputs": [
        {
          "output_type": "stream",
          "text": [
            "Cost after iteration 0: 0.701359\n",
            "Cost after iteration 100: 0.566392\n",
            "Cost after iteration 200: 0.484533\n",
            "Cost after iteration 300: 0.462656\n",
            "Cost after iteration 400: 0.425634\n",
            "Cost after iteration 500: 0.392194\n",
            "Cost after iteration 600: 0.360535\n",
            "Cost after iteration 700: 0.345067\n",
            "Cost after iteration 800: 0.317664\n",
            "Cost after iteration 900: 0.316867\n",
            "Cost after iteration 1000: 0.300786\n",
            "Cost after iteration 1100: 0.289479\n",
            "Cost after iteration 1200: 0.278205\n",
            "Cost after iteration 1300: 0.263274\n",
            "Cost after iteration 1400: 0.249577\n",
            "Cost after iteration 1500: 0.240018\n",
            "Cost after iteration 1600: 0.233365\n",
            "Cost after iteration 1700: 0.224009\n",
            "Cost after iteration 1800: 0.218788\n",
            "Cost after iteration 1900: 0.220039\n",
            "Cost after iteration 2000: 0.204732\n",
            "Cost after iteration 2100: 0.201018\n",
            "Cost after iteration 2200: 0.190404\n",
            "Cost after iteration 2300: 0.185850\n",
            "Cost after iteration 2400: 0.181472\n",
            "Cost after iteration 2500: 0.194417\n",
            "Cost after iteration 2600: 0.192336\n",
            "Cost after iteration 2700: 0.195587\n",
            "Cost after iteration 2800: 0.172264\n",
            "Cost after iteration 2900: 0.166839\n"
          ],
          "name": "stdout"
        },
        {
          "output_type": "display_data",
          "data": {
            "image/png": "[encoded data removed]",
            "text/plain": [
              "<Figure size 432x288 with 1 Axes>"
            ]
          },
          "metadata": {
            "tags": [],
            "needs_background": "light"
          }
        }
      ]
    },
    {
      "cell_type": "code",
      "metadata": {
        "id": "kfryILnpL0o4",
        "colab_type": "code",
        "colab": {
          "base_uri": "https://localhost:8080/",
          "height": 51
        },
        "outputId": "03407a84-af17-4bf2-8d66-c37b85e5cc8d"
      },
      "source": [
        "  Y_pred_train_deep = predict_deep(X_train_flat, y_train_flat, parameters_regularized)\n",
        "  Y_pred_test_deep = predict_deep(X_test_flat, y_test_flat, parameters_regularized)\n",
        "\n",
        "  print(\"train accuracy: {} %\".format(100 - np.mean(np.abs(Y_pred_train_deep - y_train_flat)) * 100))\n",
        "  print(\"test accuracy: {} %\".format(100 - np.mean(np.abs(Y_pred_test_deep- y_test_flat)) * 100))"
      ],
      "execution_count": null,
      "outputs": [
        {
          "output_type": "stream",
          "text": [
            "train accuracy: 99.91749174917491 %\n",
            "test accuracy: 91.34615384615384 %\n"
          ],
          "name": "stdout"
        }
      ]
    },
    {
      "cell_type": "markdown",
      "metadata": {
        "id": "wZb1YoJGydtq",
        "colab_type": "text"
      },
      "source": [
        "As you can see the L2 regularization + droput increases the test accuracy to 91%."
      ]
    },
    {
      "cell_type": "markdown",
      "metadata": {
        "id": "ghaCWP3XypZy",
        "colab_type": "text"
      },
      "source": [
        "## **Conclusion:**"
      ]
    },
    {
      "cell_type": "markdown",
      "metadata": {
        "id": "JU_TBGe1yslG",
        "colab_type": "text"
      },
      "source": [
        "In conclusion, in this project we tackled the classification problem for fake or real job advertisements. We started with a simple logistic regression model in the flavour of deep learning and then continued on to build a multiple layers neural network. We also saw how to increase regularization to reduce the variance present in the data. With regularization, we were able to achieve an accuracy of 91%."
      ]
    }
  ]
}